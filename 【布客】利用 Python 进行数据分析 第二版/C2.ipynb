{
 "cells": [
  {
   "metadata": {
    "ExecuteTime": {
     "end_time": "2024-11-20T06:12:31.843049Z",
     "start_time": "2024-11-20T06:12:31.830493Z"
    }
   },
   "cell_type": "code",
   "source": [
    "def f(x, y):\n",
    "    return x + y\n",
    "\n",
    "a, b = 1, 2\n",
    "res = f(a, b)\n",
    "print(res)\n",
    "\n",
    "isinstance(res, int)\n",
    "\n"
   ],
   "id": "72365c024c1c4cb9",
   "outputs": [
    {
     "name": "stdout",
     "output_type": "stream",
     "text": [
      "3\n"
     ]
    },
    {
     "data": {
      "text/plain": [
       "True"
      ]
     },
     "execution_count": 25,
     "metadata": {},
     "output_type": "execute_result"
    }
   ],
   "execution_count": 25
  },
  {
   "metadata": {
    "ExecuteTime": {
     "end_time": "2024-11-20T06:12:11.420859Z",
     "start_time": "2024-11-20T06:12:11.411755Z"
    }
   },
   "cell_type": "code",
   "source": [
    "from datetime import datetime, date, time\n",
    "dt = datetime(2024, 11, 20, 14, 12, 21)\n",
    "print(dt)\n",
    "dt.date()\n",
    "dt.strftime('%Y/%m/%d %H:%M:%S')"
   ],
   "id": "a3dcab415729f3e",
   "outputs": [
    {
     "name": "stdout",
     "output_type": "stream",
     "text": [
      "2024-11-20 14:12:21\n"
     ]
    },
    {
     "data": {
      "text/plain": [
       "'2024/11/20 14:12:21'"
      ]
     },
     "execution_count": 24,
     "metadata": {},
     "output_type": "execute_result"
    }
   ],
   "execution_count": 24
  },
  {
   "metadata": {},
   "cell_type": "code",
   "outputs": [],
   "execution_count": null,
   "source": "",
   "id": "9747bdf45e240357"
  },
  {
   "metadata": {
    "ExecuteTime": {
     "end_time": "2024-11-20T06:05:33.651755Z",
     "start_time": "2024-11-20T06:05:33.633681Z"
    }
   },
   "cell_type": "code",
   "source": "",
   "id": "29025e36bcee04b",
   "outputs": [
    {
     "ename": "SyntaxError",
     "evalue": "invalid syntax (964881119.py, line 1)",
     "output_type": "error",
     "traceback": [
      "\u001B[1;36m  Cell \u001B[1;32mIn[10], line 1\u001B[1;36m\u001B[0m\n\u001B[1;33m    res.<Press Tab>\u001B[0m\n\u001B[1;37m        ^\u001B[0m\n\u001B[1;31mSyntaxError\u001B[0m\u001B[1;31m:\u001B[0m invalid syntax\n"
     ]
    }
   ],
   "execution_count": 10
  }
 ],
 "metadata": {
  "kernelspec": {
   "display_name": "Python 3",
   "language": "python",
   "name": "python3"
  },
  "language_info": {
   "codemirror_mode": {
    "name": "ipython",
    "version": 2
   },
   "file_extension": ".py",
   "mimetype": "text/x-python",
   "name": "python",
   "nbconvert_exporter": "python",
   "pygments_lexer": "ipython2",
   "version": "2.7.6"
  }
 },
 "nbformat": 4,
 "nbformat_minor": 5
}
