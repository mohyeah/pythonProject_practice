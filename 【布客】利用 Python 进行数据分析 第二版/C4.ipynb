{
 "cells": [
  {
   "cell_type": "code",
   "id": "initial_id",
   "metadata": {
    "collapsed": true,
    "ExecuteTime": {
     "end_time": "2024-11-22T11:21:55.196202Z",
     "start_time": "2024-11-22T11:21:55.178157Z"
    }
   },
   "source": [
    "# numpy\n",
    "import numpy as np\n",
    "data = np.random.randn(2, 3)    # 标准正态分布的随机数\n",
    "\n",
    "#ndarray是一个通用的同构数据多维容器，其中所有元素必须相同类型。\n",
    "#       每个数组都有一个shape（一个表示各维度大小的元组）和一个dtype（一个用于说明数组数据类型的对象）：\n",
    "data.shape\n",
    "data.dtype"
   ],
   "outputs": [
    {
     "data": {
      "text/plain": [
       "dtype('float64')"
      ]
     },
     "execution_count": 2,
     "metadata": {},
     "output_type": "execute_result"
    }
   ],
   "execution_count": 2
  },
  {
   "metadata": {
    "ExecuteTime": {
     "end_time": "2024-11-20T08:16:46.554497Z",
     "start_time": "2024-11-20T08:16:46.540325Z"
    }
   },
   "cell_type": "code",
   "source": [
    "# create ndarray\n",
    "data1 = [6, 7.5, 8, 0, 1]\n",
    "data2 = [[1, 2, 3, 4], [4, 5, 6, 7]]\n",
    "arr1 = np.array(data1)\n",
    "arr2 = np.array(data2)\n",
    "\n",
    "np.zeros((3, 3))\n",
    "np.empty((2, 3, 2)) # 返回一些未初始化的垃圾值,而不是全0数组\n",
    "np.ones((2, 2))\n"
   ],
   "id": "f7fc56c156cdbaf9",
   "outputs": [
    {
     "data": {
      "text/plain": [
       "array([[1, 2, 3, 4],\n",
       "       [4, 5, 6, 7]])"
      ]
     },
     "execution_count": 31,
     "metadata": {},
     "output_type": "execute_result"
    }
   ],
   "execution_count": 31
  },
  {
   "metadata": {
    "ExecuteTime": {
     "end_time": "2024-11-20T08:30:38.501031Z",
     "start_time": "2024-11-20T08:30:38.480980Z"
    }
   },
   "cell_type": "code",
   "source": [
    "# ndarray data_struct\n",
    "arr1 = np.array([1, 2, 3], dtype=np.float64)\n",
    "arr2 = arr1.astype(np.int32)\n",
    "\n",
    "num_str = np.array(['1.24', '-11.2', '22'], dtype=np.str_)\n",
    "num_str.astype(np.float64)  # str to float\n",
    "\n",
    "empty_uint32 = np.empty(8, dtype='u4')  # 创建一个未初始化的uint32数组\n",
    "empty_uint32\n"
   ],
   "id": "9f3eff67e51a092d",
   "outputs": [
    {
     "data": {
      "text/plain": [
       "array([         0, 1075314688,          0, 1075707904,          0,\n",
       "       1075838976,          0, 1072693248], dtype=uint32)"
      ]
     },
     "execution_count": 39,
     "metadata": {},
     "output_type": "execute_result"
    }
   ],
   "execution_count": 39
  },
  {
   "metadata": {
    "ExecuteTime": {
     "end_time": "2024-11-20T08:35:48.085768Z",
     "start_time": "2024-11-20T08:35:48.079559Z"
    }
   },
   "cell_type": "code",
   "source": [
    "# numpy array operation\n",
    "arr1 = np.array([[1, 2, 3], [4, 5, 6]], dtype=np.float32)\n",
    "arr2 = np.array([[0, 4, 1], [7, 2, 12]], dtype=np.float32)\n",
    "\n",
    "arr1 * arr1\n",
    "arr1 - arr1\n",
    "\n",
    "1 / arr1\n",
    "arr1 ** 0.5\n",
    "\n",
    "arr2 > arr1 # 比较, 返回bool\n"
   ],
   "id": "8b93bc21f5b27f42",
   "outputs": [
    {
     "data": {
      "text/plain": [
       "array([[False,  True, False],\n",
       "       [ True, False,  True]])"
      ]
     },
     "execution_count": 47,
     "metadata": {},
     "output_type": "execute_result"
    }
   ],
   "execution_count": 47
  },
  {
   "metadata": {
    "ExecuteTime": {
     "end_time": "2024-11-20T10:41:27.721230Z",
     "start_time": "2024-11-20T10:41:27.707740Z"
    }
   },
   "cell_type": "code",
   "source": [
    "# index and slice\n",
    "arr = np.arange(10)\n",
    "arr[5:8]\n",
    "arr[4:7] = 12\n",
    "\n",
    "# 数组切片是原始数组的视图。这意味着数据不会被复制，视图上的任何修改都会直接反映到源数组上。\n",
    "arr_slice = arr[5:8]    # 切片是视图，而不是复制\n",
    "arr_slice[1] = 0    # 修改切片\n",
    "arr_slice.copy() # 复制, 而不是视图\n",
    "\n",
    "arr2d = np.array([[1, 2, 3], [4, 5, 6], [7, 8, 9]]) # 2维数组\n",
    "# 轴0为行，轴1为列\n",
    "arr2d[2]\n",
    "arr3d = np.array([[[1, 2, 3], [4, 5, 6]], [[7, 8, 9], [10, 11, 12]]])\n",
    "arr3d[1, 1, 0]\n"
   ],
   "id": "ea6f23d17c5ac59d",
   "outputs": [
    {
     "data": {
      "text/plain": [
       "np.int64(10)"
      ]
     },
     "execution_count": 58,
     "metadata": {},
     "output_type": "execute_result"
    }
   ],
   "execution_count": 58
  },
  {
   "metadata": {
    "ExecuteTime": {
     "end_time": "2024-11-20T10:44:41.042318Z",
     "start_time": "2024-11-20T10:44:41.023013Z"
    }
   },
   "cell_type": "code",
   "source": [
    "# slice index\n",
    "arr2d = np.array([[1, 2, 3], [4, 5, 6], [7, 8, 9]])\n",
    "arr2d[:2, 1:]   # 按轴选取元素\n",
    "\n"
   ],
   "id": "aa82ac945125c8ff",
   "outputs": [
    {
     "data": {
      "text/plain": [
       "array([[2, 3],\n",
       "       [5, 6]])"
      ]
     },
     "execution_count": 66,
     "metadata": {},
     "output_type": "execute_result"
    }
   ],
   "execution_count": 66
  },
  {
   "metadata": {
    "ExecuteTime": {
     "end_time": "2024-11-21T10:25:12.322184Z",
     "start_time": "2024-11-21T10:25:12.312618Z"
    }
   },
   "cell_type": "code",
   "source": [
    "# bool index\n",
    "# 通过布尔型索引选取数组中的数据，将总是创建数据的副本，即使返回一模一样的数组也是如此。\n",
    "names = np.array(['Bob', 'Joe', 'Will', 'Bob', 'Will', 'Joe', 'Joe'])\n",
    "data = np.random.randn(7, 4)    # 每个名字都对应data数组中的一行,该数组的行数必须与索引轴长度一致\n",
    "names == 'Bob'\n",
    "data[names == 'Bob'] # 输出Bob对应的data\n",
    "print(data)\n",
    "\n",
    "mask = (names == 'Bob') | (names == 'Will') # bool型数组中用 | 和 & 操作符\n",
    "data[mask]\n",
    "\n",
    "data[data < 0] = 0  # 将data中负值设置为0\n",
    "data[names != 'Joe'] = 7\n",
    "data\n"
   ],
   "id": "81bf916004d7f44b",
   "outputs": [
    {
     "name": "stdout",
     "output_type": "stream",
     "text": [
      "[[ 0.37344534  0.26679376 -0.38448988  0.63380334]\n",
      " [ 0.58961004 -0.97356939  2.15093199  0.29606324]\n",
      " [ 0.0583571  -0.971999   -0.23895768 -1.62133051]\n",
      " [-0.35579616 -0.95590281  3.01302174 -0.6308813 ]\n",
      " [-0.71077834  1.13398483 -0.05250945 -0.54284834]\n",
      " [-2.01703815  1.15031175  0.22441237  0.03315096]\n",
      " [ 1.10751253 -0.40986904  0.52780102  1.10008983]]\n"
     ]
    },
    {
     "data": {
      "text/plain": [
       "array([[7.        , 7.        , 7.        , 7.        ],\n",
       "       [0.58961004, 0.        , 2.15093199, 0.29606324],\n",
       "       [7.        , 7.        , 7.        , 7.        ],\n",
       "       [7.        , 7.        , 7.        , 7.        ],\n",
       "       [7.        , 7.        , 7.        , 7.        ],\n",
       "       [0.        , 1.15031175, 0.22441237, 0.03315096],\n",
       "       [1.10751253, 0.        , 0.52780102, 1.10008983]])"
      ]
     },
     "execution_count": 20,
     "metadata": {},
     "output_type": "execute_result"
    }
   ],
   "execution_count": 20
  },
  {
   "metadata": {
    "ExecuteTime": {
     "end_time": "2024-11-21T10:45:54.487622Z",
     "start_time": "2024-11-21T10:45:54.464580Z"
    }
   },
   "cell_type": "code",
   "source": [
    "# fancy indexing\n",
    "# 利用整数数组进行索引，可以选取多维数组中的多个轴，但必须与轴的数量一致。\n",
    "# 记住，花式索引跟切片不一样，它总是将数据复制到新数组中。\n",
    "arr = np.empty((8, 4))\n",
    "for i in range(8):\n",
    "    arr[i, ] = i\n",
    "print(arr)\n",
    "\n",
    "arr[[4, 3, 0, 6]]\n",
    "arr[[-3, -5, -7]]\n",
    "\n",
    "arr = np.arange(32).reshape((8, 4))\n",
    "print(arr)\n",
    "\n",
    "arr[[1, 5, 7, 2], [0, 3, 1, 2]] # 输出arr中第1,5,7,2行，第0,3,1,2列的元素, 且花式索引总是一维的\n",
    "(arr[[1, 5, 7, 2]], \n",
    " arr[[1, 5, 7, 2]][:, [0, 3, 1, 2]])    # 由此办法来选取矩阵的行列子集\n",
    "\n"
   ],
   "id": "533d47f15fe18848",
   "outputs": [
    {
     "name": "stdout",
     "output_type": "stream",
     "text": [
      "[[0. 0. 0. 0.]\n",
      " [1. 1. 1. 1.]\n",
      " [2. 2. 2. 2.]\n",
      " [3. 3. 3. 3.]\n",
      " [4. 4. 4. 4.]\n",
      " [5. 5. 5. 5.]\n",
      " [6. 6. 6. 6.]\n",
      " [7. 7. 7. 7.]]\n",
      "[[ 0  1  2  3]\n",
      " [ 4  5  6  7]\n",
      " [ 8  9 10 11]\n",
      " [12 13 14 15]\n",
      " [16 17 18 19]\n",
      " [20 21 22 23]\n",
      " [24 25 26 27]\n",
      " [28 29 30 31]]\n"
     ]
    },
    {
     "data": {
      "text/plain": [
       "(array([[ 4,  5,  6,  7],\n",
       "        [20, 21, 22, 23],\n",
       "        [28, 29, 30, 31],\n",
       "        [ 8,  9, 10, 11]]),\n",
       " array([[ 4,  7,  5,  6],\n",
       "        [20, 23, 21, 22],\n",
       "        [28, 31, 29, 30],\n",
       "        [ 8, 11,  9, 10]]))"
      ]
     },
     "execution_count": 43,
     "metadata": {},
     "output_type": "execute_result"
    }
   ],
   "execution_count": 43
  },
  {
   "metadata": {
    "ExecuteTime": {
     "end_time": "2024-11-21T11:38:21.760600Z",
     "start_time": "2024-11-21T11:38:21.743350Z"
    }
   },
   "cell_type": "code",
   "source": [
    "# 数组转置和轴对换\n",
    "arr = np.arange(15).reshape((3, 5))\n",
    "arr.T\n",
    "np.dot(arr.T, arr)  # 矩阵内积: 矩阵对应元素乘积之和，结果是一个值\n",
    "\n",
    "arr = np.arange(16).reshape((2, 2, 4))\n",
    "print(arr)\n",
    "print('\\n')\n",
    "print(arr.transpose((1, 0, 2))) # 将0轴和1轴对换\n",
    "print('\\n')\n",
    "print(arr.swapaxes(0, 1)) # 交换0轴和1轴\n",
    "\n"
   ],
   "id": "1bec525f98b41b5b",
   "outputs": [
    {
     "name": "stdout",
     "output_type": "stream",
     "text": [
      "[[[ 0  1  2  3]\n",
      "  [ 4  5  6  7]]\n",
      "\n",
      " [[ 8  9 10 11]\n",
      "  [12 13 14 15]]]\n",
      "\n",
      "\n",
      "[[[ 0  1  2  3]\n",
      "  [ 8  9 10 11]]\n",
      "\n",
      " [[ 4  5  6  7]\n",
      "  [12 13 14 15]]]\n",
      "\n",
      "\n",
      "[[[ 0  1  2  3]\n",
      "  [ 8  9 10 11]]\n",
      "\n",
      " [[ 4  5  6  7]\n",
      "  [12 13 14 15]]]\n"
     ]
    }
   ],
   "execution_count": 64
  },
  {
   "metadata": {
    "ExecuteTime": {
     "end_time": "2024-11-21T11:47:45.173176Z",
     "start_time": "2024-11-21T11:47:45.153090Z"
    }
   },
   "cell_type": "code",
   "source": [
    "# 通用函数(ufunc)\n",
    "arr = np.arange(10)\n",
    "np.sqrt(arr)\n",
    "np.exp(arr) # 返回各元素的e的指数\n",
    "\n",
    "x, y = np.random.randn(8), np.random.randn(8)\n",
    "np.maximum(x, y)    # 返回x和y中较大的值\n",
    "\n",
    "arr = np.random.randn(7) * 5\n",
    "remainder, whole_part = np.modf(arr)    # 返回小数部分和整数部分\n",
    "np.fmax(arr, arr)\n",
    "\n"
   ],
   "id": "d449f384f7e81f9e",
   "outputs": [
    {
     "data": {
      "text/plain": [
       "array([ 1.31302741,  3.21753871, -3.31119292, -5.44029898, -4.31704989,\n",
       "        9.60966596, -4.85405888])"
      ]
     },
     "execution_count": 80,
     "metadata": {},
     "output_type": "execute_result"
    }
   ],
   "execution_count": 80
  },
  {
   "metadata": {
    "ExecuteTime": {
     "end_time": "2024-11-22T04:46:38.848231Z",
     "start_time": "2024-11-22T04:46:38.450333Z"
    }
   },
   "cell_type": "code",
   "source": [
    "# 利用数组进行数据处理\n",
    "points = np.arange(-5, 5, 0.01) # 产生1000个等距点\n",
    "xs, ys = np.meshgrid(points, points) # 生成网格数\n",
    "z = np.sqrt(xs**2 + ys**2)\n",
    "import matplotlib.pyplot as plt\n",
    "plt.imshow(z, cmap=plt.cm.gray); plt.colorbar()\n",
    "plt.title(\"Image plot of $\\sqrt{x^2 + y^2}$ for a grid of values\")\n"
   ],
   "id": "2119ca59b9a8b291",
   "outputs": [
    {
     "data": {
      "text/plain": [
       "Text(0.5, 1.0, 'Image plot of $\\\\sqrt{x^2 + y^2}$ for a grid of values')"
      ]
     },
     "execution_count": 4,
     "metadata": {},
     "output_type": "execute_result"
    },
    {
     "data": {
      "text/plain": [
       "<Figure size 640x480 with 2 Axes>"
      ],
      "image/png": "[encoded data removed]"
     },
     "metadata": {},
     "output_type": "display_data"
    }
   ],
   "execution_count": 4
  },
  {
   "metadata": {
    "ExecuteTime": {
     "end_time": "2024-11-22T11:26:17.913449Z",
     "start_time": "2024-11-22T11:26:17.892921Z"
    }
   },
   "cell_type": "code",
   "source": [
    "# 将条件逻辑表述为数组运算\n",
    "xarr = np.array([1.1, 1.2, 1.3, 1.4, 1.5])\n",
    "yarr = np.array([2.1, 2.2, 2.3, 2.4, 2.5])\n",
    "cond = np.array([True, False, True, True, False])\n",
    "\n",
    "result = [(x if c else y) for x, y, c in zip(xarr, yarr, cond)]\n",
    "\n",
    "result = np.where(cond, xarr, yarr)\n",
    "result\n",
    "\n",
    "arr = np.random.randn(4, 4)\n",
    "np.where(arr > 0, 2, -2)\n",
    "\n",
    "np.where(arr > 0, 2, arr) # set only positive values to 2\n",
    "\n"
   ],
   "id": "5d733155067383a7",
   "outputs": [
    {
     "data": {
      "text/plain": [
       "array([1.1, 2.2, 1.3, 1.4, 2.5])"
      ]
     },
     "execution_count": 10,
     "metadata": {},
     "output_type": "execute_result"
    }
   ],
   "execution_count": 10
  },
  {
   "metadata": {},
   "cell_type": "code",
   "outputs": [],
   "execution_count": null,
   "source": "",
   "id": "3bc214f2815d2c44"
  },
  {
   "metadata": {
    "ExecuteTime": {
     "end_time": "2024-11-22T11:48:24.945538Z",
     "start_time": "2024-11-22T11:48:24.927964Z"
    }
   },
   "cell_type": "code",
   "source": [
    "# 数学和统计方法\n",
    "arr = np.random.randn(5, 4)\n",
    "arr.mean()\n",
    "np.mean(arr)\n",
    "np.sum(arr)\n",
    "\n",
    "arr.mean(axis=1)    # 求行的平均值\n",
    "arr.sum(axis=0)    # 求列的和\n",
    "\n",
    "arr = np.array([[0, 1, 2], [3, 4, 5], [6, 7, 8]])\n",
    "arr.cumsum(axis=0)  # 按列累加\n",
    "arr.cumsum(axis=1)\n",
    "\n"
   ],
   "id": "83556815db85b77f",
   "outputs": [
    {
     "data": {
      "text/plain": [
       "np.False_"
      ]
     },
     "execution_count": 23,
     "metadata": {},
     "output_type": "execute_result"
    }
   ],
   "execution_count": 23
  },
  {
   "metadata": {
    "ExecuteTime": {
     "end_time": "2024-11-22T11:49:12.976013Z",
     "start_time": "2024-11-22T11:49:12.967297Z"
    }
   },
   "cell_type": "code",
   "source": [
    "# 用于布尔型数组的方法\n",
    "arr = np.random.randn(100)\n",
    "(arr > 0).sum() # num of positive values\n",
    "\n",
    "bools = np.array([False, False, True, False])\n",
    "bools.any()\n",
    "bools.all()\n"
   ],
   "id": "7332bf427df09283",
   "outputs": [
    {
     "data": {
      "text/plain": [
       "np.False_"
      ]
     },
     "execution_count": 24,
     "metadata": {},
     "output_type": "execute_result"
    }
   ],
   "execution_count": 24
  },
  {
   "metadata": {
    "ExecuteTime": {
     "end_time": "2024-11-22T11:58:29.916331Z",
     "start_time": "2024-11-22T11:58:29.902779Z"
    }
   },
   "cell_type": "code",
   "source": [
    "# 排序\n",
    "arr = np.random.randn(5, 5)\n",
    "arr.sort(1)  # 按行排序\n",
    "\n",
    "large_arr = np.random.randn(1000)\n",
    "large_arr.sort()\n",
    "large_arr[int(0.5 * len(large_arr))] # 计算二分位数\n"
   ],
   "id": "c9928fbb128e10c7",
   "outputs": [
    {
     "data": {
      "text/plain": [
       "np.float64(-0.009915575090930873)"
      ]
     },
     "execution_count": 45,
     "metadata": {},
     "output_type": "execute_result"
    }
   ],
   "execution_count": 45
  },
  {
   "metadata": {
    "ExecuteTime": {
     "end_time": "2024-11-22T12:07:27.604488Z",
     "start_time": "2024-11-22T12:07:27.587732Z"
    }
   },
   "cell_type": "code",
   "source": [
    "# 唯一化及其他的集合逻辑\n",
    "import numpy as np\n",
    "names = np.array(['Will', 'Bob', 'Joe', 'Will', 'Bob', 'Will', 'Joe', 'Joe'])\n",
    "np.unique(names)    # 输出不重复的元素, 按字母顺序排序\n",
    "ints = np.array([3, 3, 3, 2, 2, 1, 1, 4, 4])\n",
    "np.unique(ints)\n",
    "\n",
    "values = np.array([6, 0, 0, 3, 2, 5, 6])\n",
    "np.isin(values, [2, 3, 2, 2])   # 用于测试一个数组中的值在另一个数组中的成员资格，返回一个布尔型数组\n"
   ],
   "id": "4fd5b58b2b1e9139",
   "outputs": [
    {
     "data": {
      "text/plain": [
       "array([False, False, False,  True,  True, False, False])"
      ]
     },
     "execution_count": 54,
     "metadata": {},
     "output_type": "execute_result"
    }
   ],
   "execution_count": 54
  },
  {
   "metadata": {
    "ExecuteTime": {
     "end_time": "2024-11-22T12:38:12.190779Z",
     "start_time": "2024-11-22T12:38:12.173650Z"
    }
   },
   "cell_type": "code",
   "source": [
    "# 用于数组的文件输入输出\n",
    "arr = np.arange(10)\n",
    "np.save('C4_some_array', arr)\n",
    "\n",
    "np.load('C4_some_array.npy')    # 通过np.load读取磁盘上的数组\n",
    "np.savez('array_archive.npz', a=arr, b=arr) # 将多个数组保存到一个未压缩文件中\n",
    "arch = np.load('array_archive.npz') # 加载.npz文件,得到类似字典的对象\n",
    "arch['b']\n",
    "np.savez_compressed('arrays_compressed.npz', a=arr, b=arr)\n",
    "\n",
    "a = np.load('arrays_compressed.npz') # 压缩数据   "
   ],
   "id": "1a0abd56b63b9617",
   "outputs": [
    {
     "data": {
      "text/plain": [
       "NpzFile 'arrays_compressed.npz' with keys: a, b"
      ]
     },
     "execution_count": 65,
     "metadata": {},
     "output_type": "execute_result"
    }
   ],
   "execution_count": 65
  },
  {
   "metadata": {
    "ExecuteTime": {
     "end_time": "2024-11-22T12:46:00.591372Z",
     "start_time": "2024-11-22T12:46:00.571141Z"
    }
   },
   "cell_type": "code",
   "source": [
    "# linear algebra\n",
    "x = np.array([[1, 2, 3], [4, 5, 6]], dtype=float)\n",
    "y = np.array([[6, 23], [-1, 7], [8, 9]], dtype=float)\n",
    "x.dot(y) \n",
    "np.dot(x, y)\n",
    "\n",
    "np.dot(x, np.ones(3))\n",
    "x @ np.ones(3)\n",
    "\n"
   ],
   "id": "89c058e366e9ba38",
   "outputs": [
    {
     "data": {
      "text/plain": [
       "array([[ 1.00000000e+00, -5.75009202e-17,  9.46314530e-17,\n",
       "         4.30587854e-16, -2.96800242e-16],\n",
       "       [ 2.71431615e-16,  1.00000000e+00,  4.98880497e-17,\n",
       "         2.68389225e-16,  1.25653777e-17],\n",
       "       [-2.32949005e-16, -3.25584974e-17,  1.00000000e+00,\n",
       "        -2.07365745e-16,  1.48560215e-17],\n",
       "       [ 5.08878077e-16, -4.09266789e-16, -1.96466861e-17,\n",
       "         1.00000000e+00, -1.86488681e-16],\n",
       "       [ 6.95716977e-17,  5.34196877e-17,  4.05239929e-17,\n",
       "         2.27618526e-16,  1.00000000e+00]])"
      ]
     },
     "execution_count": 79,
     "metadata": {},
     "output_type": "execute_result"
    }
   ],
   "execution_count": 79
  },
  {
   "metadata": {},
   "cell_type": "markdown",
   "source": "",
   "id": "acd774e9f1cfb5c4"
  },
  {
   "metadata": {},
   "cell_type": "markdown",
   "source": "",
   "id": "892501737386c8ed"
  },
  {
   "metadata": {
    "ExecuteTime": {
     "end_time": "2024-11-22T13:24:02.630503Z",
     "start_time": "2024-11-22T13:24:02.617959Z"
    }
   },
   "cell_type": "code",
   "source": [
    "from numpy.linalg import inv, qr\n",
    "X = np.random.randn(5, 5)\n",
    "mat = X.T.dot(X)\n",
    "inv(mat)\n",
    "mat.dot(inv(mat))\n",
    "q, r = qr(mat)\n",
    "r"
   ],
   "id": "50b42f72f3f5fdaa",
   "outputs": [
    {
     "data": {
      "text/plain": [
       "array([[-3.02202016, -2.1244115 , -0.68780101,  1.10863287,  6.82413996],\n",
       "       [ 0.        , -3.53897739,  3.0303152 ,  5.19871614,  3.87077791],\n",
       "       [ 0.        ,  0.        , -0.3290079 , -0.13253368,  0.45521473],\n",
       "       [ 0.        ,  0.        ,  0.        , -2.25461393,  2.58764312],\n",
       "       [ 0.        ,  0.        ,  0.        ,  0.        ,  0.56232357]])"
      ]
     },
     "execution_count": 105,
     "metadata": {},
     "output_type": "execute_result"
    }
   ],
   "execution_count": 105
  },
  {
   "metadata": {},
   "cell_type": "code",
   "outputs": [],
   "execution_count": null,
   "source": "",
   "id": "bdf3cf09fad84773"
  }
 ],
 "metadata": {
  "kernelspec": {
   "display_name": "Python 3",
   "language": "python",
   "name": "python3"
  },
  "language_info": {
   "codemirror_mode": {
    "name": "ipython",
    "version": 2
   },
   "file_extension": ".py",
   "mimetype": "text/x-python",
   "name": "python",
   "nbconvert_exporter": "python",
   "pygments_lexer": "ipython2",
   "version": "2.7.6"
  }
 },
 "nbformat": 4,
 "nbformat_minor": 5
}
