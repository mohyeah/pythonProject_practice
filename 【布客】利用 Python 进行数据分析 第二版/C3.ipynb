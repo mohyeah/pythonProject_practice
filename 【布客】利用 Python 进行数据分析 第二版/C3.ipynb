{
 "cells": [
  {
   "cell_type": "code",
   "id": "initial_id",
   "metadata": {
    "collapsed": true,
    "ExecuteTime": {
     "end_time": "2024-11-20T06:14:10.893069Z",
     "start_time": "2024-11-20T06:14:10.868452Z"
    }
   },
   "source": [
    "from matplotlib.pyplot import xscale\n",
    "\n",
    "tup = 'foo', [1, 2, 3], True\n",
    "tup[1].append(4)    # 元组中元素可变时可\n",
    "tup"
   ],
   "outputs": [
    {
     "data": {
      "text/plain": [
       "('foo', [1, 2, 3, 4], True)"
      ]
     },
     "execution_count": 1,
     "metadata": {},
     "output_type": "execute_result"
    }
   ],
   "execution_count": 1
  },
  {
   "metadata": {
    "ExecuteTime": {
     "end_time": "2024-11-20T06:15:14.355650Z",
     "start_time": "2024-11-20T06:15:14.342576Z"
    }
   },
   "cell_type": "code",
   "source": [
    "a, b, c = tup\n",
    "a"
   ],
   "id": "700d9e3533f9e222",
   "outputs": [
    {
     "data": {
      "text/plain": [
       "'foo'"
      ]
     },
     "execution_count": 2,
     "metadata": {},
     "output_type": "execute_result"
    }
   ],
   "execution_count": 2
  },
  {
   "metadata": {},
   "cell_type": "code",
   "outputs": [],
   "execution_count": null,
   "source": [
    "seq = [(1, 2, 3), (4, 5, 6), (7, 8, 9)]\n",
    "for a, b, c in seq:\n",
    "    print('a={0}, b={1}, c={2}'.format(a, b, c))\n",
    "    "
   ],
   "id": "b9132a804c382465"
  },
  {
   "metadata": {
    "ExecuteTime": {
     "end_time": "2024-11-20T06:31:16.775427Z",
     "start_time": "2024-11-20T06:31:16.765852Z"
    }
   },
   "cell_type": "code",
   "source": [
    "l1 = ['apple', 'beta', 'charlie']\n",
    "l2 = ['delta', 'echo', 'foxtrot']\n",
    "l3 = [True, False]\n",
    "\n",
    "zipped1 = zip(l1, l2)\n",
    "list(zipped1)\n",
    "\n",
    "zipped2 = zip(l1, l2, l3)\n",
    "list(zipped2)\n",
    "\n",
    "for i, (a, b) in enumerate(zip(l1, l2)):\n",
    "    print('{0}: {1}, {2}'.format(i, a, b))"
   ],
   "id": "75618be204f82e25",
   "outputs": [
    {
     "name": "stdout",
     "output_type": "stream",
     "text": [
      "0: apple, delta\n",
      "1: beta, echo\n",
      "2: charlie, foxtrot\n"
     ]
    }
   ],
   "execution_count": 2
  },
  {
   "metadata": {
    "ExecuteTime": {
     "end_time": "2024-11-20T06:34:17.799141Z",
     "start_time": "2024-11-20T06:34:17.788748Z"
    }
   },
   "cell_type": "code",
   "source": [
    "pitchers = [('Apple', 'beta'), ('Charlie', 'delta'), ('Echo', 'foxtrot')]\n",
    "upper, lower = zip(*pitchers)\n",
    "upper, lower\n"
   ],
   "id": "87310c98b8328c49",
   "outputs": [
    {
     "data": {
      "text/plain": [
       "(('Apple', 'Charlie', 'Echo'), ('beta', 'delta', 'foxtrot'))"
      ]
     },
     "execution_count": 6,
     "metadata": {},
     "output_type": "execute_result"
    }
   ],
   "execution_count": 6
  },
  {
   "metadata": {
    "ExecuteTime": {
     "end_time": "2024-11-20T06:37:44.040739Z",
     "start_time": "2024-11-20T06:37:44.027419Z"
    }
   },
   "cell_type": "code",
   "source": [
    "def f():\n",
    "    a, b, c = 1, 2, 3\n",
    "    return a, b, c\n",
    "\n",
    "\n",
    "return_value = f()  #函数仅返回了一个对象(一个元组)\n",
    "return_value"
   ],
   "id": "c31c019e7cee4d0e",
   "outputs": [
    {
     "data": {
      "text/plain": [
       "(1, 2, 3)"
      ]
     },
     "execution_count": 10,
     "metadata": {},
     "output_type": "execute_result"
    }
   ],
   "execution_count": 10
  },
  {
   "metadata": {
    "ExecuteTime": {
     "end_time": "2024-11-20T06:41:55.077734Z",
     "start_time": "2024-11-20T06:41:55.056719Z"
    }
   },
   "cell_type": "code",
   "source": [
    "import re\n",
    "states = ['   Alabama ', 'Georgia!', 'Georgia', 'georgia', 'FlOrIda',\n",
    "          'south   carolina##', 'West virginia?']\n",
    "def clean_strings(strings):\n",
    "    result = []\n",
    "    for value in strings:\n",
    "        value = value.strip()\n",
    "        value = value.lower()\n",
    "        value = re.sub('[!#?]', '', value)\n",
    "        value = value.title()\n",
    "        result.append(value)\n",
    "    return result\n",
    "clean_strings(states)"
   ],
   "id": "b3484a49500d3a84",
   "outputs": [
    {
     "data": {
      "text/plain": [
       "['Alabama',\n",
       " 'Georgia',\n",
       " 'Georgia',\n",
       " 'Georgia',\n",
       " 'Florida',\n",
       " 'South   Carolina',\n",
       " 'West Virginia']"
      ]
     },
     "execution_count": 15,
     "metadata": {},
     "output_type": "execute_result"
    }
   ],
   "execution_count": 15
  },
  {
   "metadata": {
    "ExecuteTime": {
     "end_time": "2024-11-20T06:50:55.893972Z",
     "start_time": "2024-11-20T06:50:55.879823Z"
    }
   },
   "cell_type": "code",
   "source": [
    "equiv_anon = lambda x: x**2\n",
    "equiv_anon(5)\n",
    "\n",
    "def apply_to_list(l, f):\n",
    "    return [f(x) for x in l]\n",
    "ints = [4, 0, 1, 3, 4]\n",
    "apply_to_list(ints, lambda x: x**2)\n",
    "\n",
    "str = ['aaaaaaaaa', 'bbaab', 'caafgsg']\n",
    "str.sort(key=lambda s: len(set(list(s))), reverse=True)   #据各字符串不同字母的数量对其进行排序\n",
    "str\n"
   ],
   "id": "65ff071fc6e75c76",
   "outputs": [
    {
     "data": {
      "text/plain": [
       "['caafgsg', 'bbaab', 'aaaaaaaaa']"
      ]
     },
     "execution_count": 21,
     "metadata": {},
     "output_type": "execute_result"
    }
   ],
   "execution_count": 21
  },
  {
   "metadata": {
    "ExecuteTime": {
     "end_time": "2024-11-20T06:55:42.195359Z",
     "start_time": "2024-11-20T06:55:42.177788Z"
    }
   },
   "cell_type": "code",
   "source": [
    "# currying  柯里化\n",
    "def add_num(x, y):\n",
    "    return x+y\n",
    "add_five = lambda x: add_num(x, 5)  # 派生出固定+5的函数\n",
    "add_five(10)\n",
    "# 将此过程简化\n",
    "from functools import partial\n",
    "add_five = partial(add_num, 5)\n",
    "add_five(10)"
   ],
   "id": "a7241653ceb1fb9b",
   "outputs": [
    {
     "data": {
      "text/plain": [
       "15"
      ]
     },
     "execution_count": 24,
     "metadata": {},
     "output_type": "execute_result"
    }
   ],
   "execution_count": 24
  },
  {
   "metadata": {
    "ExecuteTime": {
     "end_time": "2024-11-20T07:05:53.536660Z",
     "start_time": "2024-11-20T07:05:53.531105Z"
    }
   },
   "cell_type": "code",
   "source": [
    "# generator\n",
    "def squares(n=10):\n",
    "    print('Generating squares from 1 to {0}'.format(n**2))\n",
    "    for i in range(1, n+1):\n",
    "        yield i**2\n",
    "        \n",
    "gen = squares() # 生成器对象, 此时函数体还没有执行\n",
    "\n",
    "gen1 = (x**2 for x in range(1, 11)) # 更简洁构造生成器表达式\n",
    "\n",
    "for x in gen:   # 通过for循环遍历生成器, 此时函数体才执行\n",
    "    print(x, end=' ')\n",
    "gen1\n",
    "\n"
   ],
   "id": "6741238a978f3d00",
   "outputs": [
    {
     "name": "stdout",
     "output_type": "stream",
     "text": [
      "Generating squares from 1 to 100\n",
      "1 4 9 16 25 36 49 64 81 100 "
     ]
    },
    {
     "data": {
      "text/plain": [
       "<generator object <genexpr> at 0x0000022D87627760>"
      ]
     },
     "execution_count": 32,
     "metadata": {},
     "output_type": "execute_result"
    }
   ],
   "execution_count": 32
  },
  {
   "metadata": {
    "ExecuteTime": {
     "end_time": "2024-11-20T07:10:45.672064Z",
     "start_time": "2024-11-20T07:10:45.655644Z"
    }
   },
   "cell_type": "code",
   "source": [
    "# itertools \n",
    "from itertools import *\n",
    "\n",
    "first_letter = lambda x: x[0]\n",
    "\n",
    "names = ['Alan', 'Bob', 'Charlie', 'Dave', 'Apple']\n",
    "for letter, names in groupby(names, first_letter):\n",
    "    print(letter, list(names))\n",
    "  "
   ],
   "id": "13f62e1f913557ee",
   "outputs": [
    {
     "name": "stdout",
     "output_type": "stream",
     "text": [
      "A ['Alan']\n",
      "B ['Bob']\n",
      "C ['Charlie']\n",
      "D ['Dave']\n",
      "A ['Apple']\n"
     ]
    }
   ],
   "execution_count": 35
  },
  {
   "metadata": {
    "ExecuteTime": {
     "end_time": "2024-11-20T07:20:35.154091Z",
     "start_time": "2024-11-20T07:20:35.136545Z"
    }
   },
   "cell_type": "code",
   "source": [
    "# error and debug\n",
    "f = open('test.txt', 'w')\n",
    "\n",
    "try:\n",
    "    f.write('Hello')\n",
    "except:\n",
    "    print('Failed')\n",
    "else:\n",
    "    print('Succeeded')\n",
    "finally:\n",
    "    f.close()\n"
   ],
   "id": "d1db70ac3f5537ab",
   "outputs": [
    {
     "name": "stdout",
     "output_type": "stream",
     "text": [
      "Succeeded\n"
     ]
    }
   ],
   "execution_count": 42
  },
  {
   "metadata": {
    "ExecuteTime": {
     "end_time": "2024-11-20T07:27:39.724874Z",
     "start_time": "2024-11-20T07:27:39.706235Z"
    }
   },
   "cell_type": "code",
   "source": [
    "# file and OS\n",
    "path = 'test.txt'\n",
    "f = open(path, 'r+')\n",
    "print(f.read(3))\n",
    "print(f.tell()) # 当前位置\n",
    "f.seek(0)   # 移动到指定位置\n",
    "f.read(2)\n",
    "f.close()"
   ],
   "id": "11cc2d805540ccf7",
   "outputs": [
    {
     "name": "stdout",
     "output_type": "stream",
     "text": [
      "Hel\n",
      "3\n"
     ]
    },
    {
     "data": {
      "text/plain": [
       "'He'"
      ]
     },
     "execution_count": 55,
     "metadata": {},
     "output_type": "execute_result"
    }
   ],
   "execution_count": 55
  },
  {
   "metadata": {},
   "cell_type": "code",
   "outputs": [],
   "execution_count": null,
   "source": "",
   "id": "d964ac8ddc512aad"
  }
 ],
 "metadata": {
  "kernelspec": {
   "display_name": "Python 3",
   "language": "python",
   "name": "python3"
  },
  "language_info": {
   "codemirror_mode": {
    "name": "ipython",
    "version": 2
   },
   "file_extension": ".py",
   "mimetype": "text/x-python",
   "name": "python",
   "nbconvert_exporter": "python",
   "pygments_lexer": "ipython2",
   "version": "2.7.6"
  }
 },
 "nbformat": 4,
 "nbformat_minor": 5
}
