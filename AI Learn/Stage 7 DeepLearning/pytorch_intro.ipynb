{
 "cells": [
  {
   "cell_type": "code",
   "id": "initial_id",
   "metadata": {
    "collapsed": true,
    "ExecuteTime": {
     "end_time": "2025-02-10T04:18:05.355158Z",
     "start_time": "2025-02-10T04:18:05.351633Z"
    }
   },
   "source": [
    "import torch\n",
    "import numpy as np"
   ],
   "outputs": [],
   "execution_count": 11
  },
  {
   "metadata": {
    "ExecuteTime": {
     "end_time": "2025-02-10T04:22:35.185879Z",
     "start_time": "2025-02-10T04:22:35.166676Z"
    }
   },
   "cell_type": "code",
   "source": [
    "# 据已有数据创建张量\n",
    "t1 = torch.tensor([1,2,3])\n",
    "print(t1, t1.dtype)\n",
    "# 创建一个空的张量\n",
    "data = np.random.randn(2, 3)\n",
    "t2 = torch.Tensor(data)\n",
    "# 创建2x3的浮点型张量\n",
    "t3 = torch.DoubleTensor(2, 3)\n",
    "t4 = torch.empty(1, 1)\n",
    "print(t2, t2.dtype)\n",
    "print(t3)\n",
    "print(t4)"
   ],
   "id": "40a326c76f34101e",
   "outputs": [
    {
     "name": "stdout",
     "output_type": "stream",
     "text": [
      "tensor([1, 2, 3]) torch.int64\n",
      "tensor([[ 0.4412, -0.8755, -0.6073],\n",
      "        [ 0.2609, -0.6145, -0.2360]]) torch.float32\n",
      "tensor([[1.0964e-311,  1.5184e+00,  6.3766e-01],\n",
      "        [ 5.5828e-01,  5.9672e-01,  1.1690e+00]], dtype=torch.float64)\n",
      "tensor([[8.4078e-45]])\n"
     ]
    }
   ],
   "execution_count": 18
  },
  {
   "metadata": {
    "ExecuteTime": {
     "end_time": "2025-02-10T07:27:01.366871Z",
     "start_time": "2025-02-10T07:27:01.351960Z"
    }
   },
   "cell_type": "code",
   "source": [
    "# 创建线性张量\n",
    "\n",
    "t5 = torch.arange(0, 10, 2)\n",
    "t6 = torch.linspace(0, 1, steps=5)\n",
    "print(t5)\n",
    "print(t6)"
   ],
   "id": "4743a694ba8502e5",
   "outputs": [
    {
     "name": "stdout",
     "output_type": "stream",
     "text": [
      "tensor([0, 2, 4, 6, 8])\n",
      "tensor([0.0000, 0.2500, 0.5000, 0.7500, 1.0000])\n"
     ]
    }
   ],
   "execution_count": 28
  },
  {
   "metadata": {
    "ExecuteTime": {
     "end_time": "2025-02-10T07:31:31.078292Z",
     "start_time": "2025-02-10T07:31:31.063271Z"
    }
   },
   "cell_type": "code",
   "source": [
    "# 创建随机张量\n",
    "print(torch.random.initial_seed())\n",
    "# 设置随机种子\n",
    "torch.random.manual_seed(100)\n",
    "print(torch.random.initial_seed())\n",
    "t7 = torch.randn(2, 3)\n",
    "print(t7)\n",
    "t8 = torch.randn(2, 3)\n",
    "print(t8)"
   ],
   "id": "182724d722624ae",
   "outputs": [
    {
     "name": "stdout",
     "output_type": "stream",
     "text": [
      "100\n",
      "100\n",
      "tensor([[-2.3652, -0.8047,  0.6587],\n",
      "        [-0.2586, -0.2510,  0.4770]])\n",
      "tensor([[-0.5883, -0.6131,  0.4322],\n",
      "        [ 0.4612, -0.9014, -0.2675]])\n"
     ]
    }
   ],
   "execution_count": 40
  },
  {
   "metadata": {
    "ExecuteTime": {
     "end_time": "2025-02-10T07:40:55.740948Z",
     "start_time": "2025-02-10T07:40:55.732437Z"
    }
   },
   "cell_type": "code",
   "source": [
    "# 0, 1张量\n",
    "t9 = torch.zeros(2, 3)\n",
    "t10 = torch.ones(2, 3)\n",
    "# 创建指定形状的张量\n",
    "t11 = torch.zeros_like(t10)\n",
    "# 创建指定形状的常数张量\n",
    "t12 = torch.full_like(t10, 200)\n",
    "print(t9, t9.dtype)\n",
    "print(t10, t10.dtype)\n",
    "print(t11, t11.dtype)\n",
    "print(t12, t12.dtype)"
   ],
   "id": "f9c1d37a292fb540",
   "outputs": [
    {
     "name": "stdout",
     "output_type": "stream",
     "text": [
      "tensor([[0., 0., 0.],\n",
      "        [0., 0., 0.]]) torch.float32\n",
      "tensor([[1., 1., 1.],\n",
      "        [1., 1., 1.]]) torch.float32\n",
      "tensor([[0., 0., 0.],\n",
      "        [0., 0., 0.]]) torch.float32\n",
      "tensor([[200., 200., 200.],\n",
      "        [200., 200., 200.]]) torch.float32\n"
     ]
    }
   ],
   "execution_count": 45
  },
  {
   "metadata": {
    "ExecuteTime": {
     "end_time": "2025-02-10T07:46:34.725310Z",
     "start_time": "2025-02-10T07:46:34.704484Z"
    }
   },
   "cell_type": "code",
   "source": [
    "# 张量类型转换\n",
    "t13 = torch.full([2, 3], 10)\n",
    "print(t13, t13.dtype)\n",
    "t14 = t13.type(torch.DoubleTensor)  # 转换为浮点型张量,返回新的张量\n",
    "print(t14)\n",
    "t15 = t13.double()   # 转换为浮点型张量,返回新的张量\n",
    "print(t15)"
   ],
   "id": "665774dfdf5dc460",
   "outputs": [
    {
     "name": "stdout",
     "output_type": "stream",
     "text": [
      "tensor([[10, 10, 10],\n",
      "        [10, 10, 10]]) torch.int64\n",
      "tensor([[10., 10., 10.],\n",
      "        [10., 10., 10.]], dtype=torch.float64)\n",
      "tensor([[10., 10., 10.],\n",
      "        [10., 10., 10.]], dtype=torch.float64)\n"
     ]
    }
   ],
   "execution_count": 54
  },
  {
   "metadata": {
    "ExecuteTime": {
     "end_time": "2025-02-10T08:11:55.944142Z",
     "start_time": "2025-02-10T08:11:55.936161Z"
    }
   },
   "cell_type": "code",
   "source": [
    "# 张量基本计算\n",
    "# 1. 基本计算\n",
    "t1 = torch.randint(0, 10, [2, 3]).cuda()   # 随机生成一个2x3, 在0-10区间的矩阵\n",
    "t1.add_(10) # 原地+10\n",
    "t1.mul(0)   # 返回*0的新张量\n"
   ],
   "id": "ca1f49526fdb3b78",
   "outputs": [
    {
     "name": "stdout",
     "output_type": "stream",
     "text": [
      "tensor([[0, 0, 0],\n",
      "        [0, 0, 0]], device='cuda:0') torch.int64\n"
     ]
    }
   ],
   "execution_count": 66
  },
  {
   "metadata": {
    "ExecuteTime": {
     "end_time": "2025-02-10T08:36:06.259580Z",
     "start_time": "2025-02-10T08:36:06.244032Z"
    }
   },
   "cell_type": "code",
   "source": [
    "# 2. 阿达玛乘\n",
    "# mul 函数 or *\n",
    "t1 = torch.tensor([[1, 2], [3, 4]])  # 指定在GPU上创建张量\n",
    "t2 = torch.tensor([[5, 6], [7, 8]])\n",
    "#t3 = t1.mul(t2)\n",
    "t3 = t1 * t2\n",
    "t3\n"
   ],
   "id": "893bab24914baedf",
   "outputs": [
    {
     "data": {
      "text/plain": [
       "tensor([[ 5, 12],\n",
       "        [21, 32]])"
      ]
     },
     "execution_count": 85,
     "metadata": {},
     "output_type": "execute_result"
    }
   ],
   "execution_count": 85
  },
  {
   "metadata": {
    "ExecuteTime": {
     "end_time": "2025-02-10T08:25:05.044458Z",
     "start_time": "2025-02-10T08:25:05.026760Z"
    }
   },
   "cell_type": "code",
   "source": [
    "# 3. 点积运算\n",
    "# @ or matmul\n",
    "# mm    对二维\n",
    "# bmm   对三维\n",
    "t1 = torch.tensor([[1, 2], [3, 4], [5, 6]])\n",
    "t2 = torch.tensor([[5, 6], [7, 8]])\n",
    "t3 = t1 @ t2    # cuda 不支持整型运算\n",
    "t3\n",
    "\n"
   ],
   "id": "44a32009e5f6755e",
   "outputs": [
    {
     "data": {
      "text/plain": [
       "tensor([[19, 22],\n",
       "        [43, 50],\n",
       "        [67, 78]])"
      ]
     },
     "execution_count": 77,
     "metadata": {},
     "output_type": "execute_result"
    }
   ],
   "execution_count": 77
  },
  {
   "metadata": {
    "ExecuteTime": {
     "end_time": "2025-02-10T08:37:53.411553Z",
     "start_time": "2025-02-10T08:37:53.397941Z"
    }
   },
   "cell_type": "code",
   "source": [
    "t4 = torch.randn(3, 4, 5).cuda(device=0)    # 3批, 5行, 6列的张量\n",
    "t5 = torch.randn(   5, 6).cuda(0)\n",
    "t6 = t4 @ t5\n",
    "t6.shape"
   ],
   "id": "949e9ed96952c716",
   "outputs": [
    {
     "data": {
      "text/plain": [
       "torch.Size([3, 4, 6])"
      ]
     },
     "execution_count": 88,
     "metadata": {},
     "output_type": "execute_result"
    }
   ],
   "execution_count": 88
  },
  {
   "metadata": {},
   "cell_type": "code",
   "outputs": [],
   "execution_count": null,
   "source": "",
   "id": "ecb76577b372b4"
  }
 ],
 "metadata": {
  "kernelspec": {
   "display_name": "Python 3",
   "language": "python",
   "name": "python3"
  },
  "language_info": {
   "codemirror_mode": {
    "name": "ipython",
    "version": 2
   },
   "file_extension": ".py",
   "mimetype": "text/x-python",
   "name": "python",
   "nbconvert_exporter": "python",
   "pygments_lexer": "ipython2",
   "version": "2.7.6"
  }
 },
 "nbformat": 4,
 "nbformat_minor": 5
}
