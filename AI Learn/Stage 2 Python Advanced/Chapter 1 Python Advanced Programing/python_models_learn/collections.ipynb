{
 "cells": [
  {
   "metadata": {},
   "cell_type": "markdown",
   "source": "collections:https://zhuanlan.zhihu.com/p/343747724https://zhuanlan.zhihu.com/p/343747724",
   "id": "7e4c693555b9a69d"
  },
  {
   "metadata": {
    "ExecuteTime": {
     "end_time": "2025-02-01T12:07:30.259576Z",
     "start_time": "2025-02-01T12:07:30.242887Z"
    }
   },
   "cell_type": "code",
   "source": [
    "import collections\n",
    "from idlelib.colorizer import prog_group_name_to_tag"
   ],
   "id": "6e3f51123be0ee05",
   "outputs": [],
   "execution_count": 2
  },
  {
   "metadata": {
    "ExecuteTime": {
     "end_time": "2025-02-01T12:10:19.799763Z",
     "start_time": "2025-02-01T12:10:19.788709Z"
    }
   },
   "cell_type": "code",
   "source": [
    "# 双向队列\n",
    "from _collections import deque\n",
    "# 右添加\n",
    "dq = deque('ghi')\n",
    "dq.append('j')\n",
    "dq"
   ],
   "id": "d5ab8c55fa11eb7f",
   "outputs": [
    {
     "data": {
      "text/plain": [
       "deque(['g', 'h', 'i', 'j'])"
      ]
     },
     "execution_count": 7,
     "metadata": {},
     "output_type": "execute_result"
    }
   ],
   "execution_count": 7
  },
  {
   "metadata": {
    "ExecuteTime": {
     "end_time": "2025-02-01T12:08:50.982810Z",
     "start_time": "2025-02-01T12:08:50.969678Z"
    }
   },
   "cell_type": "code",
   "source": [
    "# 左添加\n",
    "dq.appendleft('f')\n",
    "dq"
   ],
   "id": "3d4b805b770d0c13",
   "outputs": [
    {
     "data": {
      "text/plain": [
       "deque(['f', 'g', 'h', 'i', 'j'])"
      ]
     },
     "execution_count": 4,
     "metadata": {},
     "output_type": "execute_result"
    }
   ],
   "execution_count": 4
  },
  {
   "metadata": {
    "ExecuteTime": {
     "end_time": "2025-02-01T12:10:22.527589Z",
     "start_time": "2025-02-01T12:10:22.513576Z"
    }
   },
   "cell_type": "code",
   "source": [
    "# 右删除\n",
    "dq.pop()\n",
    "# 左删除\n",
    "dq.popleft()\n",
    "# 清空\n",
    "dq.clear()\n",
    "dq"
   ],
   "id": "f8e7c985eca1614a",
   "outputs": [
    {
     "data": {
      "text/plain": [
       "deque([])"
      ]
     },
     "execution_count": 8,
     "metadata": {},
     "output_type": "execute_result"
    }
   ],
   "execution_count": 8
  },
  {
   "metadata": {
    "ExecuteTime": {
     "end_time": "2025-02-01T12:11:21.874989Z",
     "start_time": "2025-02-01T12:11:21.867705Z"
    }
   },
   "cell_type": "code",
   "source": [
    "# 浅拷贝\n",
    "dq = deque('hello, collections')\n",
    "y = dq.copy()\n",
    "y"
   ],
   "id": "a93112183c256e5d",
   "outputs": [
    {
     "data": {
      "text/plain": [
       "deque(['h',\n",
       "       'e',\n",
       "       'l',\n",
       "       'l',\n",
       "       'o',\n",
       "       ',',\n",
       "       ' ',\n",
       "       'c',\n",
       "       'o',\n",
       "       'l',\n",
       "       'l',\n",
       "       'e',\n",
       "       'c',\n",
       "       't',\n",
       "       'i',\n",
       "       'o',\n",
       "       'n',\n",
       "       's'])"
      ]
     },
     "execution_count": 9,
     "metadata": {},
     "output_type": "execute_result"
    }
   ],
   "execution_count": 9
  },
  {
   "metadata": {
    "ExecuteTime": {
     "end_time": "2025-02-01T12:14:32.846825Z",
     "start_time": "2025-02-01T12:14:32.839953Z"
    }
   },
   "cell_type": "code",
   "source": [
    "# count\n",
    "dq.count('l')"
   ],
   "id": "519d3b9ce2f01407",
   "outputs": [
    {
     "data": {
      "text/plain": [
       "4"
      ]
     },
     "execution_count": 10,
     "metadata": {},
     "output_type": "execute_result"
    }
   ],
   "execution_count": 10
  },
  {
   "metadata": {
    "ExecuteTime": {
     "end_time": "2025-02-01T12:16:09.418422Z",
     "start_time": "2025-02-01T12:16:09.408756Z"
    }
   },
   "cell_type": "code",
   "source": [
    "# extend, extendleft\n",
    "dq1 = deque('abc')\n",
    "dq2 = deque('def')\n",
    "dq1.extend(dq2)\n",
    "dq1\n",
    "\n",
    "# 与append区别\n",
    "dq1.append(dq2)\n",
    "dq1"
   ],
   "id": "f019d1806cd64a60",
   "outputs": [
    {
     "data": {
      "text/plain": [
       "deque(['a', 'b', 'c', 'd', 'e', 'f', deque(['d', 'e', 'f'])])"
      ]
     },
     "execution_count": 13,
     "metadata": {},
     "output_type": "execute_result"
    }
   ],
   "execution_count": 13
  },
  {
   "metadata": {
    "ExecuteTime": {
     "end_time": "2025-02-01T12:17:10.039369Z",
     "start_time": "2025-02-01T12:17:10.023805Z"
    }
   },
   "cell_type": "code",
   "source": [
    "#index\n",
    "dq.index('s')"
   ],
   "id": "76e2dd55b942fed5",
   "outputs": [
    {
     "data": {
      "text/plain": [
       "17"
      ]
     },
     "execution_count": 16,
     "metadata": {},
     "output_type": "execute_result"
    }
   ],
   "execution_count": 16
  },
  {
   "metadata": {
    "ExecuteTime": {
     "end_time": "2025-02-01T12:18:21.820420Z",
     "start_time": "2025-02-01T12:18:21.814911Z"
    }
   },
   "cell_type": "code",
   "source": "# remove(val), reverse",
   "id": "c791d17c54fbb061",
   "outputs": [],
   "execution_count": 17
  },
  {
   "metadata": {
    "ExecuteTime": {
     "end_time": "2025-02-01T12:19:50.274881Z",
     "start_time": "2025-02-01T12:19:50.258827Z"
    }
   },
   "cell_type": "code",
   "source": [
    "# rotate\n",
    "dq = deque('abcdefg')\n",
    "dq.rotate(1)     # 向右旋转\n",
    "print(dq)\n",
    "dq = deque('abcdefg')\n",
    "dq.rotate(-1)    # 向左旋转\n",
    "print(dq)"
   ],
   "id": "c42d256bfff4c18c",
   "outputs": [
    {
     "name": "stdout",
     "output_type": "stream",
     "text": [
      "deque(['g', 'a', 'b', 'c', 'd', 'e', 'f'])\n",
      "deque(['b', 'c', 'd', 'e', 'f', 'g', 'a'])\n"
     ]
    }
   ],
   "execution_count": 21
  },
  {
   "metadata": {
    "ExecuteTime": {
     "end_time": "2025-02-01T12:20:48.499415Z",
     "start_time": "2025-02-01T12:20:48.488206Z"
    }
   },
   "cell_type": "code",
   "source": [
    "# maxlen\n",
    "d = deque(maxlen=3)\n",
    "for i in range(5):\n",
    "    d.append(i)\n",
    "d"
   ],
   "id": "b321ccdb15329e72",
   "outputs": [
    {
     "data": {
      "text/plain": [
       "deque([2, 3, 4], maxlen=3)"
      ]
     },
     "execution_count": 22,
     "metadata": {},
     "output_type": "execute_result"
    }
   ],
   "execution_count": 22
  },
  {
   "metadata": {},
   "cell_type": "code",
   "outputs": [],
   "execution_count": null,
   "source": "",
   "id": "e8fc087e5bfa2164"
  }
 ],
 "metadata": {
  "kernelspec": {
   "display_name": "Python 3",
   "language": "python",
   "name": "python3"
  },
  "language_info": {
   "codemirror_mode": {
    "name": "ipython",
    "version": 2
   },
   "file_extension": ".py",
   "mimetype": "text/x-python",
   "name": "python",
   "nbconvert_exporter": "python",
   "pygments_lexer": "ipython2",
   "version": "2.7.6"
  }
 },
 "nbformat": 4,
 "nbformat_minor": 5
}
