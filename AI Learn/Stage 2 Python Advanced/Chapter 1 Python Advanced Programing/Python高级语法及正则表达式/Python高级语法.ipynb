{
 "cells": [
  {
   "cell_type": "code",
   "id": "initial_id",
   "metadata": {
    "collapsed": true,
    "ExecuteTime": {
     "end_time": "2024-12-15T08:33:18.435125Z",
     "start_time": "2024-12-15T08:33:18.145720Z"
    }
   },
   "source": [
    "'''\n",
    "with语句 上下文管理器\n",
    "__enter__(): 上文管理器\n",
    "__exit__(): 下文管理器\n",
    "'''\n",
    "\n",
    "# 传统文件操作\n",
    "# 1. 打开文件\n",
    "f = open('learn.txt', 'r')\n",
    "# 2. 读取文件\n",
    "content = f.read()\n",
    "f.write('\\nhello world')  #※此处报错, 後面代码不会执行, 故文件f没有关闭\n",
    "\n",
    "print(content)\n",
    "# 3. 关闭文件\n",
    "f.close()"
   ],
   "outputs": [
    {
     "ename": "UnsupportedOperation",
     "evalue": "not writable",
     "output_type": "error",
     "traceback": [
      "\u001B[1;31m---------------------------------------------------------------------------\u001B[0m",
      "\u001B[1;31mUnsupportedOperation\u001B[0m                      Traceback (most recent call last)",
      "Cell \u001B[1;32mIn[6], line 10\u001B[0m\n\u001B[0;32m      8\u001B[0m \u001B[38;5;66;03m# 2. 读取文件\u001B[39;00m\n\u001B[0;32m      9\u001B[0m content \u001B[38;5;241m=\u001B[39m f\u001B[38;5;241m.\u001B[39mread()\n\u001B[1;32m---> 10\u001B[0m \u001B[43mf\u001B[49m\u001B[38;5;241;43m.\u001B[39;49m\u001B[43mwrite\u001B[49m\u001B[43m(\u001B[49m\u001B[38;5;124;43m'\u001B[39;49m\u001B[38;5;130;43;01m\\n\u001B[39;49;00m\u001B[38;5;124;43mhello world\u001B[39;49m\u001B[38;5;124;43m'\u001B[39;49m\u001B[43m)\u001B[49m\n\u001B[0;32m     11\u001B[0m \u001B[38;5;28mprint\u001B[39m(content)\n\u001B[0;32m     12\u001B[0m \u001B[38;5;66;03m# 3. 关闭文件\u001B[39;00m\n",
      "\u001B[1;31mUnsupportedOperation\u001B[0m: not writable"
     ]
    }
   ],
   "execution_count": 6
  },
  {
   "metadata": {
    "ExecuteTime": {
     "end_time": "2024-12-15T08:37:51.731672Z",
     "start_time": "2024-12-15T08:37:51.716995Z"
    }
   },
   "cell_type": "code",
   "source": [
    "# 定义异常处理语句\n",
    "try:\n",
    "    f = open('learn.txt', 'r')\n",
    "    f.write('\\nhello world')\n",
    "except Exception as e:\n",
    "    print(e)   \n",
    "finally:\n",
    "    f.close()\n"
   ],
   "id": "38cad47aef6fc7e9",
   "outputs": [
    {
     "name": "stdout",
     "output_type": "stream",
     "text": [
      "not writable\n"
     ]
    }
   ],
   "execution_count": 8
  },
  {
   "metadata": {
    "ExecuteTime": {
     "end_time": "2024-12-15T08:40:27.909619Z",
     "start_time": "2024-12-15T08:40:27.897455Z"
    }
   },
   "cell_type": "code",
   "source": [
    "# with语句 高级语法, 等价于上面代码\n",
    "# 包含__enter__和__exit__方法, 可以自动关闭文件\n",
    "with open('learn.txt', 'r') as f:\n",
    "    # 文件操作\n",
    "    content = f.read()\n",
    "    print(content)\n",
    "\n",
    "\n"
   ],
   "id": "27fc02c38c08376d",
   "outputs": [
    {
     "name": "stdout",
     "output_type": "stream",
     "text": [
      "life is short, I learn python!\n"
     ]
    }
   ],
   "execution_count": 10
  },
  {
   "metadata": {
    "ExecuteTime": {
     "end_time": "2024-12-15T08:55:05.589765Z",
     "start_time": "2024-12-15T08:55:05.583911Z"
    }
   },
   "cell_type": "code",
   "source": [
    "'''\n",
    "生成器: 按指定规则循环生成数据, 条件不成立时生成数据结束. 使用一个生成一个, 节约内存\n",
    "       next()函数, 按生成器中生成规则生成一个值\n",
    "\n",
    "'''\n",
    "\n",
    "# 生成器对象 => (数据生成规则), 本质是对象, 内部没有具体数据, 仅生成规则\n",
    "my_generator = (i*2 for i in range(5))\n",
    "\n",
    "# 生成器函数 => next(生成器对象), 生成一个值\n",
    "print(next(my_generator))   # 占用一个元素的内存空间\n",
    "\n",
    "# 遍历生成器\n",
    "for i in my_generator:\n",
    "    print(i)\n",
    "\n",
    "\n",
    "\n"
   ],
   "id": "c999c058906f9c53",
   "outputs": [
    {
     "name": "stdout",
     "output_type": "stream",
     "text": [
      "0\n",
      "2\n",
      "4\n",
      "6\n",
      "8\n"
     ]
    }
   ],
   "execution_count": 26
  },
  {
   "metadata": {
    "ExecuteTime": {
     "end_time": "2024-12-15T11:22:52.812627Z",
     "start_time": "2024-12-15T11:22:52.553407Z"
    }
   },
   "cell_type": "code",
   "source": [
    "import time\n",
    "import memory_profiler as mem\n",
    "\n",
    "start = time.time()\n",
    "start_mem = mem.memory_usage()\n",
    "\n",
    "square_num = (n**2 for n in range(10000000))\n",
    "\n",
    "end = time.time()\n",
    "end_mem = mem.memory_usage()\n",
    "\n",
    "print(\"executing time:{}\".format(end-start))\n",
    "print(\"memory usage:{}\".format(start_mem))\n",
    "print(\"memory usage:{}\".format(end_mem))"
   ],
   "id": "3419b4d7de22d997",
   "outputs": [
    {
     "name": "stdout",
     "output_type": "stream",
     "text": [
      "executing time:0.10345697402954102\n",
      "memory usage:[60.15625]\n",
      "memory usage:[60.1640625]\n"
     ]
    }
   ],
   "execution_count": 1
  },
  {
   "metadata": {
    "ExecuteTime": {
     "end_time": "2024-12-15T11:33:16.074535Z",
     "start_time": "2024-12-15T11:33:16.052485Z"
    }
   },
   "cell_type": "code",
   "source": [
    "'''\n",
    "yield生成器: 是对象而不再是函数\n",
    "\n",
    "'''\n",
    "\n",
    "# 生成器函数, 不再是函数\n",
    "def generator_func(n):   # \n",
    "    for i in range(n):\n",
    "        print(\"--start generating num--\")\n",
    "        yield i # 返回值後, 暂时停止, 等待下一次调用\n",
    "        print(\"--end generating num one times--\")\n",
    "\n",
    "\n",
    "g = generator_func(5)\n",
    "print(type(g))\n",
    "\n",
    "# 输出5次\n",
    "for i in range(5):\n",
    "    print(next(g))\n",
    "    \n",
    "# 第6次输出\n",
    "print(next(g))  # 只会输出yield语句後的语句, 并抛出StopIteration异常\n",
    "\n",
    "# 第7次输出\n",
    "print(next(g))  # 抛出StopIteration异常\n",
    "\n"
   ],
   "id": "51af08adc6c8c69d",
   "outputs": [
    {
     "name": "stdout",
     "output_type": "stream",
     "text": [
      "<class 'generator'>\n",
      "--start generating num--\n",
      "0\n",
      "--end generating num one times--\n",
      "--start generating num--\n",
      "1\n",
      "--end generating num one times--\n",
      "--start generating num--\n",
      "2\n",
      "--end generating num one times--\n",
      "--start generating num--\n",
      "3\n",
      "--end generating num one times--\n",
      "--start generating num--\n",
      "4\n",
      "--end generating num one times--\n"
     ]
    },
    {
     "ename": "StopIteration",
     "evalue": "",
     "output_type": "error",
     "traceback": [
      "\u001B[1;31m---------------------------------------------------------------------------\u001B[0m",
      "\u001B[1;31mStopIteration\u001B[0m                             Traceback (most recent call last)",
      "Cell \u001B[1;32mIn[8], line 21\u001B[0m\n\u001B[0;32m     18\u001B[0m     \u001B[38;5;28mprint\u001B[39m(\u001B[38;5;28mnext\u001B[39m(g))\n\u001B[0;32m     20\u001B[0m \u001B[38;5;66;03m# 第6次输出\u001B[39;00m\n\u001B[1;32m---> 21\u001B[0m \u001B[38;5;28mprint\u001B[39m(\u001B[38;5;28;43mnext\u001B[39;49m\u001B[43m(\u001B[49m\u001B[43mg\u001B[49m\u001B[43m)\u001B[49m)  \u001B[38;5;66;03m# 输出yield语句後的语句\u001B[39;00m\n\u001B[0;32m     23\u001B[0m \u001B[38;5;66;03m# 第7次输出\u001B[39;00m\n\u001B[0;32m     24\u001B[0m \u001B[38;5;28mprint\u001B[39m(\u001B[38;5;28mnext\u001B[39m(g))  \u001B[38;5;66;03m# \u001B[39;00m\n",
      "\u001B[1;31mStopIteration\u001B[0m: "
     ]
    }
   ],
   "execution_count": 8
  },
  {
   "metadata": {
    "ExecuteTime": {
     "end_time": "2024-12-15T11:37:15.930264Z",
     "start_time": "2024-12-15T11:37:15.913406Z"
    }
   },
   "cell_type": "code",
   "source": [
    "def generator_func(n):   # \n",
    "    for i in range(n):\n",
    "        print(\"--start generating num--\")\n",
    "        yield i # 返回值後, 暂时停止, 等待下一次调用\n",
    "        print(\"--end generating num one times--\")\n",
    "\n",
    "\n",
    "g = generator_func(5)\n",
    "\n",
    "# for循环中, 取数据的方式就是next() => 更好\n",
    "for i in g:\n",
    "    print(i)\n",
    "\n"
   ],
   "id": "b87a07bb5ae6ab73",
   "outputs": [
    {
     "name": "stdout",
     "output_type": "stream",
     "text": [
      "--start generating num--\n",
      "0\n",
      "--end generating num one times--\n",
      "--start generating num--\n",
      "1\n",
      "--end generating num one times--\n",
      "--start generating num--\n",
      "2\n",
      "--end generating num one times--\n",
      "--start generating num--\n",
      "3\n",
      "--end generating num one times--\n",
      "--start generating num--\n",
      "4\n",
      "--end generating num one times--\n"
     ]
    }
   ],
   "execution_count": 9
  },
  {
   "metadata": {
    "ExecuteTime": {
     "end_time": "2024-12-15T12:01:47.401633Z",
     "start_time": "2024-12-15T12:01:47.384819Z"
    }
   },
   "cell_type": "code",
   "source": [
    "# 用生成器生成fibonacci数列\n",
    "\n",
    "def fibonacci(n):\n",
    "    a, b = 0, 1\n",
    "    for i in range(n):\n",
    "        yield a\n",
    "        a, b = b, a+b\n",
    "        \n",
    "f1 = fibonacci(5)\n",
    "for i in f1:\n",
    "    print(i)\n",
    "\n"
   ],
   "id": "1c5e80df19728c5b",
   "outputs": [
    {
     "name": "stdout",
     "output_type": "stream",
     "text": [
      "0\n",
      "1\n",
      "1\n",
      "2\n",
      "3\n"
     ]
    }
   ],
   "execution_count": 18
  },
  {
   "metadata": {
    "ExecuteTime": {
     "end_time": "2024-12-16T05:06:43.314053Z",
     "start_time": "2024-12-16T05:06:43.290946Z"
    }
   },
   "cell_type": "code",
   "source": [
    "# python中变量引用关系\n",
    "\n",
    "# 内存地址固定,其值是否可变:\n",
    "# 可变数据类型: list, dict, set, \n",
    "# 不可变数据类型: Number(int float bool complex), str, tuple\n",
    "\n",
    "a = True\n",
    "print(id(a))\n",
    "a = False\n",
    "print(id(a))\n"
   ],
   "id": "3fd255c6eebc3a45",
   "outputs": [
    {
     "name": "stdout",
     "output_type": "stream",
     "text": [
      "140718230686568\n",
      "140718230686600\n"
     ]
    }
   ],
   "execution_count": 1
  },
  {
   "metadata": {
    "ExecuteTime": {
     "end_time": "2024-12-16T05:17:12.478900Z",
     "start_time": "2024-12-16T05:17:12.470194Z"
    }
   },
   "cell_type": "code",
   "source": [
    "# 赋值\n",
    "a = [1,2,3]\n",
    "b = a\n",
    "print(id(a))\n",
    "print(id(b))\n",
    "\n"
   ],
   "id": "11fdc5c93b629af1",
   "outputs": [
    {
     "name": "stdout",
     "output_type": "stream",
     "text": [
      "1528959676800\n",
      "1528959676800\n"
     ]
    }
   ],
   "execution_count": 12
  },
  {
   "metadata": {
    "ExecuteTime": {
     "end_time": "2024-12-16T05:18:15.933775Z",
     "start_time": "2024-12-16T05:18:15.915921Z"
    }
   },
   "cell_type": "code",
   "source": [
    "import copy\n",
    "\n",
    "# 可变数据类型, 浅拷贝开辟新的内存地址\n",
    "# 浅拷贝: 浅拷贝只拷贝第一层, 内层层数据还是指向原数据\n",
    "list1 = [1, 3, 5, [7, 9]]\n",
    "list2 = copy.copy(list1)\n",
    "print(id(list1))\n",
    "print(id(list2))\n"
   ],
   "id": "8cc014eb572753c",
   "outputs": [
    {
     "name": "stdout",
     "output_type": "stream",
     "text": [
      "1528958717632\n",
      "1528954056960\n"
     ]
    }
   ],
   "execution_count": 14
  },
  {
   "metadata": {
    "ExecuteTime": {
     "end_time": "2024-12-16T05:38:46.737366Z",
     "start_time": "2024-12-16T05:38:46.720497Z"
    }
   },
   "cell_type": "code",
   "source": [
    "'''\n",
    "浅拷贝有三种形式： 切片操作，工厂函数，copy模块中的copy函数。\n",
    "如： lst = [1,2,[3,4]]\n",
    "切片操作：lst1 = lst[:] 或者 lst1 = [each for each in lst]\n",
    "> 注：`[:]`它与`[0:]`相似，意思是从0索引拆分到末尾。它返回一个新列表。\n",
    "工厂函数：lst1 = list(lst)\n",
    "copy函数：lst1 = copy.copy(lst)\n",
    "但是在lst中有一个嵌套的list[3,4]，如果我们修改了它，情况就不一样了。\n",
    "'''\n",
    "a = [1, 3, 5, [7, 9]]\n",
    "b = a[:]\n",
    "a[1] = 2\n",
    "a[3][1] = 10\n",
    "print(b)"
   ],
   "id": "fae5edcffa29aaed",
   "outputs": [
    {
     "name": "stdout",
     "output_type": "stream",
     "text": [
      "[1, 3, 5, [7, 10]]\n"
     ]
    }
   ],
   "execution_count": 21
  },
  {
   "metadata": {
    "ExecuteTime": {
     "end_time": "2024-12-16T05:38:02.086843Z",
     "start_time": "2024-12-16T05:38:02.068837Z"
    }
   },
   "cell_type": "code",
   "source": [
    "import copy\n",
    "\n",
    "# 不可变数据类型\n",
    "# 浅拷贝: 浅拷贝不开辟新的内存地址, 指向原数据地址, 内层数据也是指向原数据\n",
    "a = (1, 2, 3, (4, 5))\n",
    "b = copy.copy(a)\n",
    "print(id(a))\n",
    "print(id(b))\n",
    "print(id(a[3]))\n",
    "print(id(b[3]))"
   ],
   "id": "1117e469bff0e075",
   "outputs": [
    {
     "name": "stdout",
     "output_type": "stream",
     "text": [
      "1528959754912\n",
      "1528959754912\n",
      "1528959272000\n",
      "1528959272000\n"
     ]
    }
   ],
   "execution_count": 18
  },
  {
   "metadata": {
    "ExecuteTime": {
     "end_time": "2024-12-16T05:43:24.589770Z",
     "start_time": "2024-12-16T05:43:24.578485Z"
    }
   },
   "cell_type": "code",
   "source": [
    "import copy\n",
    "\n",
    "# 可变数据类型\n",
    "# 深拷贝: 深拷贝开辟新的内存地址, 内层数据也开辟新的内存地址\n",
    "a = [1, 2, 3, [4, 5]]\n",
    "b = copy.deepcopy(a)\n",
    "print(id(a))\n",
    "print(id(b))\n",
    "print(id(a[3]))\n",
    "print(id(b[3]))"
   ],
   "id": "6fab144c3333218c",
   "outputs": [
    {
     "name": "stdout",
     "output_type": "stream",
     "text": [
      "1528959529792\n",
      "1528959120448\n",
      "1528959545600\n",
      "1528959516864\n"
     ]
    }
   ],
   "execution_count": 22
  },
  {
   "metadata": {
    "ExecuteTime": {
     "end_time": "2024-12-16T05:45:42.477940Z",
     "start_time": "2024-12-16T05:45:42.467914Z"
    }
   },
   "cell_type": "code",
   "source": [
    "import copy\n",
    "\n",
    "# 不可变数据类型\n",
    "# 深拷贝: 只能拷贝引用关系, 指向原数据地址, 内部数据还是指向原数据地址\n",
    "a = (1, 2, 3, (4, 5))\n",
    "b = copy.deepcopy(a)\n",
    "print(id(a))\n",
    "print(id(b))\n",
    "print(id(a[3]))\n",
    "print(id(b[3]))\n"
   ],
   "id": "32999dc278abd0d5",
   "outputs": [
    {
     "name": "stdout",
     "output_type": "stream",
     "text": [
      "1528959751312\n",
      "1528959751312\n",
      "1528959691008\n",
      "1528959691008\n"
     ]
    }
   ],
   "execution_count": 23
  },
  {
   "metadata": {
    "ExecuteTime": {
     "end_time": "2024-12-16T05:58:41.506584Z",
     "start_time": "2024-12-16T05:58:41.493003Z"
    }
   },
   "cell_type": "code",
   "source": [
    "import copy\n",
    "\n",
    "# 深浅拷贝特殊考虑:\n",
    "# 1. 可变嵌套不可变类型: 外层对象完全拷贝(开辟内存), 内层对象只拷贝引用关系\n",
    "a = [1, 2, 3, (4, 5)]\n",
    "b = copy.copy(a)\n",
    "c = copy.deepcopy(a)\n",
    "print(id(a))\n",
    "print(id(b))\n",
    "print(id(c))\n",
    "print(id(a[3]))\n",
    "print(id(b[3]))\n",
    "print(id(c[3]))\n",
    "print(\"------------\")\n",
    "# ※2. 不可变嵌套可变类型: \n",
    "# 浅拷贝: 外层对象只拷贝引用关系, 内层对象指向原数据地址\n",
    "# 深拷贝: 整体对象开辟新的内存地址\n",
    "d = (1, 2, 3, [4, 5])\n",
    "e = copy.copy(d)\n",
    "f = copy.deepcopy(d)\n",
    "print(id(d))\n",
    "print(id(e))\n",
    "print(id(f))\n",
    "print(id(d[3]))\n",
    "print(id(e[3]))\n",
    "print(id(f[3]))\n"
   ],
   "id": "3386c21de30def94",
   "outputs": [
    {
     "name": "stdout",
     "output_type": "stream",
     "text": [
      "1528959683072\n",
      "1528959686016\n",
      "1528959664192\n",
      "1528959688064\n",
      "1528959688064\n",
      "1528959688064\n",
      "------------\n",
      "1528959783760\n",
      "1528959783760\n",
      "1528959780800\n",
      "1528959771392\n",
      "1528959771392\n",
      "1528959764032\n"
     ]
    }
   ],
   "execution_count": 32
  },
  {
   "metadata": {
    "ExecuteTime": {
     "end_time": "2024-12-16T07:33:00.108904Z",
     "start_time": "2024-12-16T07:33:00.101879Z"
    }
   },
   "cell_type": "code",
   "source": [
    "# 正则表达式: 匹配字符串\n",
    "import re\n",
    "\n",
    "# match(): 从字符串的起始位置开始匹配\n",
    "# findall(): 搜索字符串, 返回所有匹配的字符串\n",
    "str1 = \"www.cn.bing.com4\"\n",
    "\n",
    "# 1. 查什么\n",
    "res1 = re.match(\"www\", str1)    # 匹配字符串\n",
    "res2 = re.findall(\"\\d\", str1)   # 匹配数字\n",
    "res3 = re.findall(\"\\D\", str1)   # 匹配非数字\n",
    "res4 = re.findall(\"[a-c]\", str1)    # 匹配字符簇a,b,c\n",
    "res5 = re.findall(\"[^abc]\", str1)   # 匹配字符簇非a,b,c( [^] 托子节符:取反)\n",
    "res6 = re.findall(\"\\s\", str1)   # 匹配空格\n",
    "res7 = re.findall(\"\\S\", str1)    # 匹配非空格\n",
    "res8 = re.findall(\".\", str1)    # 匹配任意一个字符(除换行符)\n",
    "res9 = re.findall(\"\\w\", str1)   # 匹配非特殊字符(数字,字母)\n",
    "res10 = re.findall(\"\\W\", str1)  # 匹配特殊字符\n",
    "\n",
    "\n",
    "\n",
    "# 2. 查多少\n",
    "str2 = \"123abc\"\n",
    "res11 = re.findall(\"\\d*\", str2)     # 匹配0个或多个数字\n",
    "res12 = re.findall(\"\\d+\", str2)     # 匹配1个或多个数字\n",
    "res13 = re.findall(\"\\d?\", str2)     # 匹配0个或1个数字\n",
    "res14 = re.findall(\"\\s{3}\", str2)   # 匹配3个空格\n",
    "res15 = re.findall(\"\\w{3, }\", str2) # 匹配3个或更多非特殊字符\n",
    "res16 = re.findall(\"\\W{3, 5\", str2) # 匹配3到5个特殊字符\n",
    "\n",
    "# 3. 从哪查\n",
    "# 限制字符串的开头结尾\n",
    "#   ^: 匹配行首\n",
    "#   $: 匹配行尾\n",
    "mobile = \"13575008994a\"\n",
    "\n",
    "# 匹配手机号\n",
    "# 限制以数字1开头, 数字结尾, 第二位是3-9, 后面是9位数\n",
    "result = re.match(\"^1[3-9]\\d{9}$\", mobile)\n",
    "if result:\n",
    "    print(\"匹配成功\")\n",
    "else:\n",
    "    print(\"匹配失败\")\n",
    "\n"
   ],
   "id": "98f7818f62866b3c",
   "outputs": [
    {
     "name": "stdout",
     "output_type": "stream",
     "text": [
      "匹配失败\n"
     ]
    }
   ],
   "execution_count": 58
  },
  {
   "metadata": {},
   "cell_type": "code",
   "outputs": [],
   "execution_count": null,
   "source": "",
   "id": "6866e296f57f7bb"
  }
 ],
 "metadata": {
  "kernelspec": {
   "display_name": "Python 3",
   "language": "python",
   "name": "python3"
  },
  "language_info": {
   "codemirror_mode": {
    "name": "ipython",
    "version": 2
   },
   "file_extension": ".py",
   "mimetype": "text/x-python",
   "name": "python",
   "nbconvert_exporter": "python",
   "pygments_lexer": "ipython2",
   "version": "2.7.6"
  }
 },
 "nbformat": 4,
 "nbformat_minor": 5
}
