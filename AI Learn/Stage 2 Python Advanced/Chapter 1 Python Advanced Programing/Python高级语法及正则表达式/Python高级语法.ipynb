{
 "cells": [
  {
   "cell_type": "code",
   "id": "initial_id",
   "metadata": {
    "collapsed": true,
    "ExecuteTime": {
     "end_time": "2024-12-15T08:33:18.435125Z",
     "start_time": "2024-12-15T08:33:18.145720Z"
    }
   },
   "source": [
    "'''\n",
    "with语句 上下文管理器\n",
    "__enter__(): 上文管理器\n",
    "__exit__(): 下文管理器\n",
    "'''\n",
    "\n",
    "# 传统文件操作\n",
    "# 1. 打开文件\n",
    "f = open('learn.txt', 'r')\n",
    "# 2. 读取文件\n",
    "content = f.read()\n",
    "f.write('\\nhello world')  #※此处报错, 後面代码不会执行, 故文件f没有关闭\n",
    "\n",
    "print(content)\n",
    "# 3. 关闭文件\n",
    "f.close()"
   ],
   "outputs": [
    {
     "ename": "UnsupportedOperation",
     "evalue": "not writable",
     "output_type": "error",
     "traceback": [
      "\u001B[1;31m---------------------------------------------------------------------------\u001B[0m",
      "\u001B[1;31mUnsupportedOperation\u001B[0m                      Traceback (most recent call last)",
      "Cell \u001B[1;32mIn[6], line 10\u001B[0m\n\u001B[0;32m      8\u001B[0m \u001B[38;5;66;03m# 2. 读取文件\u001B[39;00m\n\u001B[0;32m      9\u001B[0m content \u001B[38;5;241m=\u001B[39m f\u001B[38;5;241m.\u001B[39mread()\n\u001B[1;32m---> 10\u001B[0m \u001B[43mf\u001B[49m\u001B[38;5;241;43m.\u001B[39;49m\u001B[43mwrite\u001B[49m\u001B[43m(\u001B[49m\u001B[38;5;124;43m'\u001B[39;49m\u001B[38;5;130;43;01m\\n\u001B[39;49;00m\u001B[38;5;124;43mhello world\u001B[39;49m\u001B[38;5;124;43m'\u001B[39;49m\u001B[43m)\u001B[49m\n\u001B[0;32m     11\u001B[0m \u001B[38;5;28mprint\u001B[39m(content)\n\u001B[0;32m     12\u001B[0m \u001B[38;5;66;03m# 3. 关闭文件\u001B[39;00m\n",
      "\u001B[1;31mUnsupportedOperation\u001B[0m: not writable"
     ]
    }
   ],
   "execution_count": 6
  },
  {
   "metadata": {
    "ExecuteTime": {
     "end_time": "2024-12-15T08:37:51.731672Z",
     "start_time": "2024-12-15T08:37:51.716995Z"
    }
   },
   "cell_type": "code",
   "source": [
    "# 定义异常处理语句\n",
    "try:\n",
    "    f = open('learn.txt', 'r')\n",
    "    f.write('\\nhello world')\n",
    "except Exception as e:\n",
    "    print(e)   \n",
    "finally:\n",
    "    f.close()\n"
   ],
   "id": "38cad47aef6fc7e9",
   "outputs": [
    {
     "name": "stdout",
     "output_type": "stream",
     "text": [
      "not writable\n"
     ]
    }
   ],
   "execution_count": 8
  },
  {
   "metadata": {
    "ExecuteTime": {
     "end_time": "2024-12-15T08:40:27.909619Z",
     "start_time": "2024-12-15T08:40:27.897455Z"
    }
   },
   "cell_type": "code",
   "source": [
    "# with语句 高级语法, 等价于上面代码\n",
    "# 包含__enter__和__exit__方法, 可以自动关闭文件\n",
    "with open('learn.txt', 'r') as f:\n",
    "    # 文件操作\n",
    "    content = f.read()\n",
    "    print(content)\n",
    "\n",
    "\n"
   ],
   "id": "27fc02c38c08376d",
   "outputs": [
    {
     "name": "stdout",
     "output_type": "stream",
     "text": [
      "life is short, I learn python!\n"
     ]
    }
   ],
   "execution_count": 10
  },
  {
   "metadata": {
    "ExecuteTime": {
     "end_time": "2024-12-15T08:55:05.589765Z",
     "start_time": "2024-12-15T08:55:05.583911Z"
    }
   },
   "cell_type": "code",
   "source": [
    "'''\n",
    "生成器: 按指定规则循环生成数据, 条件不成立时生成数据结束. 使用一个生成一个, 节约内存\n",
    "       next()函数, 按生成器中生成规则生成一个值\n",
    "\n",
    "'''\n",
    "\n",
    "# 生成器对象 => (数据生成规则), 本质是对象, 内部没有具体数据, 仅生成规则\n",
    "my_generator = (i*2 for i in range(5))\n",
    "\n",
    "# 生成器函数 => next(生成器对象), 生成一个值\n",
    "print(next(my_generator))   # 占用一个元素的内存空间\n",
    "\n",
    "# 遍历生成器\n",
    "for i in my_generator:\n",
    "    print(i)\n",
    "\n",
    "\n",
    "\n"
   ],
   "id": "c999c058906f9c53",
   "outputs": [
    {
     "name": "stdout",
     "output_type": "stream",
     "text": [
      "0\n",
      "2\n",
      "4\n",
      "6\n",
      "8\n"
     ]
    }
   ],
   "execution_count": 26
  },
  {
   "metadata": {
    "ExecuteTime": {
     "end_time": "2024-12-15T11:22:52.812627Z",
     "start_time": "2024-12-15T11:22:52.553407Z"
    }
   },
   "cell_type": "code",
   "source": [
    "import time\n",
    "import memory_profiler as mem\n",
    "\n",
    "start = time.time()\n",
    "start_mem = mem.memory_usage()\n",
    "\n",
    "square_num = (n**2 for n in range(10000000))\n",
    "\n",
    "end = time.time()\n",
    "end_mem = mem.memory_usage()\n",
    "\n",
    "print(\"executing time:{}\".format(end-start))\n",
    "print(\"memory usage:{}\".format(start_mem))\n",
    "print(\"memory usage:{}\".format(end_mem))"
   ],
   "id": "3419b4d7de22d997",
   "outputs": [
    {
     "name": "stdout",
     "output_type": "stream",
     "text": [
      "executing time:0.10345697402954102\n",
      "memory usage:[60.15625]\n",
      "memory usage:[60.1640625]\n"
     ]
    }
   ],
   "execution_count": 1
  },
  {
   "metadata": {
    "ExecuteTime": {
     "end_time": "2024-12-15T11:33:16.074535Z",
     "start_time": "2024-12-15T11:33:16.052485Z"
    }
   },
   "cell_type": "code",
   "source": [
    "'''\n",
    "yield生成器: 是对象而不再是函数\n",
    "\n",
    "'''\n",
    "\n",
    "# 生成器函数, 不再是函数\n",
    "def generator_func(n):   # \n",
    "    for i in range(n):\n",
    "        print(\"--start generating num--\")\n",
    "        yield i # 返回值後, 暂时停止, 等待下一次调用\n",
    "        print(\"--end generating num one times--\")\n",
    "\n",
    "\n",
    "g = generator_func(5)\n",
    "print(type(g))\n",
    "\n",
    "# 输出5次\n",
    "for i in range(5):\n",
    "    print(next(g))\n",
    "    \n",
    "# 第6次输出\n",
    "print(next(g))  # 只会输出yield语句後的语句, 并抛出StopIteration异常\n",
    "\n",
    "# 第7次输出\n",
    "print(next(g))  # 抛出StopIteration异常\n",
    "\n"
   ],
   "id": "51af08adc6c8c69d",
   "outputs": [
    {
     "name": "stdout",
     "output_type": "stream",
     "text": [
      "<class 'generator'>\n",
      "--start generating num--\n",
      "0\n",
      "--end generating num one times--\n",
      "--start generating num--\n",
      "1\n",
      "--end generating num one times--\n",
      "--start generating num--\n",
      "2\n",
      "--end generating num one times--\n",
      "--start generating num--\n",
      "3\n",
      "--end generating num one times--\n",
      "--start generating num--\n",
      "4\n",
      "--end generating num one times--\n"
     ]
    },
    {
     "ename": "StopIteration",
     "evalue": "",
     "output_type": "error",
     "traceback": [
      "\u001B[1;31m---------------------------------------------------------------------------\u001B[0m",
      "\u001B[1;31mStopIteration\u001B[0m                             Traceback (most recent call last)",
      "Cell \u001B[1;32mIn[8], line 21\u001B[0m\n\u001B[0;32m     18\u001B[0m     \u001B[38;5;28mprint\u001B[39m(\u001B[38;5;28mnext\u001B[39m(g))\n\u001B[0;32m     20\u001B[0m \u001B[38;5;66;03m# 第6次输出\u001B[39;00m\n\u001B[1;32m---> 21\u001B[0m \u001B[38;5;28mprint\u001B[39m(\u001B[38;5;28;43mnext\u001B[39;49m\u001B[43m(\u001B[49m\u001B[43mg\u001B[49m\u001B[43m)\u001B[49m)  \u001B[38;5;66;03m# 输出yield语句後的语句\u001B[39;00m\n\u001B[0;32m     23\u001B[0m \u001B[38;5;66;03m# 第7次输出\u001B[39;00m\n\u001B[0;32m     24\u001B[0m \u001B[38;5;28mprint\u001B[39m(\u001B[38;5;28mnext\u001B[39m(g))  \u001B[38;5;66;03m# \u001B[39;00m\n",
      "\u001B[1;31mStopIteration\u001B[0m: "
     ]
    }
   ],
   "execution_count": 8
  },
  {
   "metadata": {
    "ExecuteTime": {
     "end_time": "2024-12-15T11:37:15.930264Z",
     "start_time": "2024-12-15T11:37:15.913406Z"
    }
   },
   "cell_type": "code",
   "source": [
    "def generator_func(n):   # \n",
    "    for i in range(n):\n",
    "        print(\"--start generating num--\")\n",
    "        yield i # 返回值後, 暂时停止, 等待下一次调用\n",
    "        print(\"--end generating num one times--\")\n",
    "\n",
    "\n",
    "g = generator_func(5)\n",
    "\n",
    "# for循环中, 取数据的方式就是next() => 更好\n",
    "for i in g:\n",
    "    print(i)\n",
    "\n"
   ],
   "id": "b87a07bb5ae6ab73",
   "outputs": [
    {
     "name": "stdout",
     "output_type": "stream",
     "text": [
      "--start generating num--\n",
      "0\n",
      "--end generating num one times--\n",
      "--start generating num--\n",
      "1\n",
      "--end generating num one times--\n",
      "--start generating num--\n",
      "2\n",
      "--end generating num one times--\n",
      "--start generating num--\n",
      "3\n",
      "--end generating num one times--\n",
      "--start generating num--\n",
      "4\n",
      "--end generating num one times--\n"
     ]
    }
   ],
   "execution_count": 9
  },
  {
   "metadata": {
    "ExecuteTime": {
     "end_time": "2024-12-15T12:01:47.401633Z",
     "start_time": "2024-12-15T12:01:47.384819Z"
    }
   },
   "cell_type": "code",
   "source": [
    "# 用生成器生成fibonacci数列\n",
    "\n",
    "def fibonacci(n):\n",
    "    a, b = 0, 1\n",
    "    for i in range(n):\n",
    "        yield a\n",
    "        a, b = b, a+b\n",
    "        \n",
    "f1 = fibonacci(5)\n",
    "for i in f1:\n",
    "    print(i)\n",
    "\n"
   ],
   "id": "1c5e80df19728c5b",
   "outputs": [
    {
     "name": "stdout",
     "output_type": "stream",
     "text": [
      "0\n",
      "1\n",
      "1\n",
      "2\n",
      "3\n"
     ]
    }
   ],
   "execution_count": 18
  },
  {
   "metadata": {},
   "cell_type": "code",
   "outputs": [],
   "execution_count": null,
   "source": "",
   "id": "3fd255c6eebc3a45"
  }
 ],
 "metadata": {
  "kernelspec": {
   "display_name": "Python 3",
   "language": "python",
   "name": "python3"
  },
  "language_info": {
   "codemirror_mode": {
    "name": "ipython",
    "version": 2
   },
   "file_extension": ".py",
   "mimetype": "text/x-python",
   "name": "python",
   "nbconvert_exporter": "python",
   "pygments_lexer": "ipython2",
   "version": "2.7.6"
  }
 },
 "nbformat": 4,
 "nbformat_minor": 5
}
