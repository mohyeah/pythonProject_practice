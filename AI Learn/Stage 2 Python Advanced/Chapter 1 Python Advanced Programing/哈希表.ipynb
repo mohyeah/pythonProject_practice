{
 "cells": [
  {
   "cell_type": "code",
   "id": "initial_id",
   "metadata": {
    "collapsed": true,
    "ExecuteTime": {
     "end_time": "2025-01-30T10:48:17.052873Z",
     "start_time": "2025-01-30T10:48:17.033286Z"
    }
   },
   "source": "import hashlib",
   "outputs": [],
   "execution_count": 1
  },
  {
   "metadata": {
    "ExecuteTime": {
     "end_time": "2025-01-30T10:54:43.013122Z",
     "start_time": "2025-01-30T10:54:42.999061Z"
    }
   },
   "cell_type": "code",
   "source": [
    "# sha256\n",
    "sha256_hash = hashlib.new('sha256')\n",
    "sha256_hash.update(b'Hello, world!')\n",
    "# 输出hex进制哈希值\n",
    "print(sha256_hash.hexdigest())"
   ],
   "id": "468bdd8a84880057",
   "outputs": [
    {
     "name": "stdout",
     "output_type": "stream",
     "text": [
      "315f5bdb76d078c43b8ac0064e4a0164612b1fce77c869345bfc94c75894edd3\n"
     ]
    }
   ],
   "execution_count": 12
  },
  {
   "metadata": {
    "ExecuteTime": {
     "end_time": "2025-01-30T10:54:45.273817Z",
     "start_time": "2025-01-30T10:54:45.262746Z"
    }
   },
   "cell_type": "code",
   "source": [
    "sha256_hash = hashlib.sha256()\n",
    "sha256_hash.update(b'Hello, ')\n",
    "sha256_hash.update(b'world!')\n",
    "print(sha256_hash.hexdigest())"
   ],
   "id": "389ca86354b4fdc8",
   "outputs": [
    {
     "name": "stdout",
     "output_type": "stream",
     "text": [
      "315f5bdb76d078c43b8ac0064e4a0164612b1fce77c869345bfc94c75894edd3\n"
     ]
    }
   ],
   "execution_count": 13
  },
  {
   "metadata": {
    "ExecuteTime": {
     "end_time": "2025-01-30T10:55:49.996391Z",
     "start_time": "2025-01-30T10:55:49.989616Z"
    }
   },
   "cell_type": "code",
   "source": [
    "md5_hash = hashlib.md5(b'hello')\n",
    "# 输出2进制哈希值\n",
    "print(md5_hash.digest())"
   ],
   "id": "c6694a0467df4e13",
   "outputs": [
    {
     "name": "stdout",
     "output_type": "stream",
     "text": [
      "b']A@*\\xbcK*v\\xb9q\\x9d\\x91\\x10\\x17\\xc5\\x92'\n"
     ]
    }
   ],
   "execution_count": 14
  },
  {
   "metadata": {},
   "cell_type": "code",
   "outputs": [],
   "execution_count": null,
   "source": "",
   "id": "9b9fd24a4155b06a"
  }
 ],
 "metadata": {
  "kernelspec": {
   "display_name": "Python 3",
   "language": "python",
   "name": "python3"
  },
  "language_info": {
   "codemirror_mode": {
    "name": "ipython",
    "version": 2
   },
   "file_extension": ".py",
   "mimetype": "text/x-python",
   "name": "python",
   "nbconvert_exporter": "python",
   "pygments_lexer": "ipython2",
   "version": "2.7.6"
  }
 },
 "nbformat": 4,
 "nbformat_minor": 5
}
