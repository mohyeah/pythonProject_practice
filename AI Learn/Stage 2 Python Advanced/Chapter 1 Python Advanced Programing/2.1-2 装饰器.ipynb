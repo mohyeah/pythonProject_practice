{
 "cells": [
  {
   "cell_type": "code",
   "id": "initial_id",
   "metadata": {
    "collapsed": true,
    "ExecuteTime": {
     "end_time": "2024-11-28T05:58:06.039186Z",
     "start_time": "2024-11-28T05:58:06.028230Z"
    }
   },
   "source": [
    "# 通用装饰器的使用\n",
    "\n",
    "\n",
    "# 1. 修饰器修饰带有参数的函数\n",
    "\n",
    "# 编写用于给函数增加日志输出功能的装饰器\n",
    "def logging(fn):\n",
    "    def inner(*args, **kwargs):\n",
    "        print('输出日志:executing addition operation')\n",
    "        fn(*args, **kwargs)\n",
    "    return inner\n",
    "\n",
    "@logging\n",
    "# 原有函数\n",
    "def sum_num(num1, num2):\n",
    "    print(num1 + num2)\n",
    "    \n",
    "# 调用\n",
    "sum_num(10, 20) # sum_num(10, 20) => @logging => inner(10, 20)\n"
   ],
   "outputs": [
    {
     "name": "stdout",
     "output_type": "stream",
     "text": [
      "输出日志:executing addition operation\n",
      "30\n"
     ]
    }
   ],
   "execution_count": 9
  },
  {
   "metadata": {
    "ExecuteTime": {
     "end_time": "2024-11-28T06:02:12.509031Z",
     "start_time": "2024-11-28T06:02:12.504500Z"
    }
   },
   "cell_type": "code",
   "source": [
    "# *args 不定参数(非键值对), 本质为元组\n",
    "# **kwargs 关键字参数, 传入键值对, 本质为字典\n",
    "# 通用装饰器参数一般都为 *args, **kwargs, 用于接受任意参数\n",
    "def sum_num(*args, **kwargs):\n",
    "    print(args)\n",
    "    print(kwargs)\n",
    "    \n",
    "sum_num(1, 2, a=3, b=4, c=5)"
   ],
   "id": "58d7690a2d2140e2",
   "outputs": [
    {
     "name": "stdout",
     "output_type": "stream",
     "text": [
      "(1, 2)\n",
      "{'a': 3, 'b': 4, 'c': 5}\n"
     ]
    }
   ],
   "execution_count": 12
  },
  {
   "metadata": {
    "ExecuteTime": {
     "end_time": "2024-11-28T06:22:43.620982Z",
     "start_time": "2024-11-28T06:22:43.602851Z"
    }
   },
   "cell_type": "code",
   "source": [
    "# 定义原函数(参数不固定), 接受任意长度的参数, 返回所有参数的和\n",
    "\n",
    "def logging(fn):\n",
    "    \n",
    "    def inner(*args, **kwargs):\n",
    "        print('输出日志:executing addition operation')\n",
    "        \n",
    "        fn(*args, **kwargs)\n",
    "    \n",
    "    return inner\n",
    "\n",
    "@logging\n",
    "# 定义原函数(无返回值)\n",
    "def sum_num(*args, **kwargs):\n",
    "    result = 0\n",
    "    for i in args:\n",
    "        result += i\n",
    "    for i in kwargs.values():\n",
    "        result += i\n",
    "\n",
    "    print(result)   # 不是带有返回值的函数\n",
    "    \n",
    "# 调用函数\n",
    "sum_num(1, 2, 3, a=4, b=5)\n",
    "    \n",
    "    \n",
    "\n"
   ],
   "id": "ce9be5480454bb8c",
   "outputs": [
    {
     "name": "stdout",
     "output_type": "stream",
     "text": [
      "输出日志:executing addition operation\n",
      "15\n"
     ]
    }
   ],
   "execution_count": 23
  },
  {
   "metadata": {
    "ExecuteTime": {
     "end_time": "2024-11-28T06:27:20.092913Z",
     "start_time": "2024-11-28T06:27:20.084275Z"
    }
   },
   "cell_type": "code",
   "source": [
    "# 2. 装饰带有返回值的函数\n",
    "\n",
    "# 定义一个装饰器\n",
    "def logging(fn):\n",
    "    def inner(*args, **kwargs):\n",
    "        print('输出日志:executing addition operation')\n",
    "        # fn(*args, **kwargs)  # ※运行後为30, 但由于inner函数无返回值, 所以返回值是None\n",
    "        # 原函数带有返回值, 此处也应有 return\n",
    "        return fn(*args, **kwargs)  # ※运行後为30, 返回运行後的值, 即30\n",
    "    return inner\n",
    "\n",
    "@logging\n",
    "# 定义原函数(带有返回值)\n",
    "def func(num1, num2):\n",
    "    result = num1 + num2\n",
    "\n",
    "    return result   # ※ 带有返回值的函数\n",
    "\n",
    "# 调用函数\n",
    "print(func(10, 20))\n",
    "\n"
   ],
   "id": "ee86ec18dc7e924a",
   "outputs": [
    {
     "name": "stdout",
     "output_type": "stream",
     "text": [
      "输出日志:executing addition operation\n",
      "30\n"
     ]
    }
   ],
   "execution_count": 28
  },
  {
   "metadata": {
    "ExecuteTime": {
     "end_time": "2024-11-28T06:44:51.802116Z",
     "start_time": "2024-11-28T06:44:51.780805Z"
    }
   },
   "cell_type": "code",
   "source": [
    "# 3.通用装饰器编写\n",
    "\n",
    "# ※定义通用装饰器※   有嵌套, 有引用, 有返回\n",
    "def logging(fn):\n",
    "    def inner(*args, **kwargs):\n",
    "        # 输出日志信息\n",
    "        print(\"--输出日志:executing operation--\")\n",
    "        # 返回结果\n",
    "        return fn(*args, **kwargs)\n",
    "    return inner\n",
    "\n",
    "\n",
    "@logging\n",
    "# 定义原函数\n",
    "def sum_num(num1, num2):\n",
    "    return num1 + num2\n",
    "\n",
    "@logging\n",
    "# 定义原函数\n",
    "def sub_num(num1, num2):\n",
    "    return num1 - num2\n",
    "\n",
    "\n",
    "# 调用函数\n",
    "print(sum_num(10, 20))\n",
    "print(sub_num(10, 20))"
   ],
   "id": "9b0814fbd436385b",
   "outputs": [
    {
     "name": "stdout",
     "output_type": "stream",
     "text": [
      "--输出日志:executing operation--\n",
      "30\n",
      "--输出日志:executing operation--\n",
      "-10\n"
     ]
    }
   ],
   "execution_count": 33
  },
  {
   "metadata": {
    "ExecuteTime": {
     "end_time": "2024-11-28T07:06:22.722093Z",
     "start_time": "2024-11-28T07:06:22.702963Z"
    }
   },
   "cell_type": "code",
   "source": [
    "# 高级装饰器: 实现带参数的装饰器\n",
    "def logging(op):\n",
    "    # 1.有嵌套, 2.有引用, 3.有返回\n",
    "    def logging_decorator(fn):\n",
    "        def inner(*args, **kwargs):\n",
    "            if op == '+':\n",
    "                print(\"--输出日志:executing addition operation--\")\n",
    "            elif op == '-':\n",
    "                print(\"--输出警告:executing submission operation--\")\n",
    "            elif op == '*':\n",
    "                print(\"--输出错误:executing product operation--\")\n",
    "            elif op == '/':\n",
    "                print(\"--输出错误:executing division operation--\")\n",
    "            return fn(*args, **kwargs)\n",
    "        return inner\n",
    "    # 4.再次返回(返回logging中内层函数在内存中地址)\n",
    "    return logging_decorator\n",
    "\n",
    "@logging('+')   # 为装饰器传参\n",
    "def sum_num(num1, num2):\n",
    "    return num1 + num2\n",
    "@logging('-')\n",
    "def sub_num(num1, num2):\n",
    "    return num1 - num2\n",
    "@logging('*')\n",
    "def mul_num(num1, num2):\n",
    "    return num1 * num2\n",
    "@logging('/')\n",
    "def div_num(num1, num2):\n",
    "    return num1 / num2\n",
    "\n",
    "print(sum_num(10, 20))\n",
    "print(sub_num(10, 20))\n",
    "print(mul_num(10, 20))\n",
    "print(div_num(10, 20))"
   ],
   "id": "85f9f0148edb7d0c",
   "outputs": [
    {
     "name": "stdout",
     "output_type": "stream",
     "text": [
      "--输出日志:executing addition operation--\n",
      "30\n",
      "--输出警告:executing submission operation--\n",
      "-10\n",
      "--输出错误:executing product operation--\n",
      "200\n"
     ]
    }
   ],
   "execution_count": 43
  },
  {
   "metadata": {
    "ExecuteTime": {
     "end_time": "2024-11-29T04:48:54.213936Z",
     "start_time": "2024-11-29T04:48:54.199227Z"
    }
   },
   "cell_type": "code",
   "source": [
    "# 类装饰器  (通过类来装饰函数)\n",
    "'''\n",
    "1. 必须有一个__init__初始化方法, 用于接受要装饰的函数\n",
    "2. 必须把这个类转化为可以调用的函数\n",
    "'''\n",
    "\n",
    "# 定义类装饰器\n",
    "class Check(object):\n",
    "    def __init__(self, fn):\n",
    "        # fn 为被修饰函数名, 当Check装饰类被调用时, 系统会自动把原函数名传递给fn变量\n",
    "        self.__fn = fn\n",
    "        \n",
    "    # __call__方法, 当被装饰函数被调用时, 会自动调用__call__方法 => 把一个类转换为函数的形式调用\n",
    "    def __call__(self, *args, **kwargs):\n",
    "        # 编写装饰器代码\n",
    "        print(\"please login\")\n",
    "        # 调用原函数本身\n",
    "        self.__fn(*args, **kwargs)\n",
    "        \n",
    "@Check\n",
    "# 定义原函数\n",
    "def comment():\n",
    "    print(\"comment\")\n",
    "    \n",
    "# 调用函数\n",
    "comment()\n",
    "\n",
    "\n",
    "\n"
   ],
   "id": "458d6a3ec817a227",
   "outputs": [
    {
     "name": "stdout",
     "output_type": "stream",
     "text": [
      "please login\n",
      "comment\n"
     ]
    }
   ],
   "execution_count": 1
  },
  {
   "metadata": {
    "ExecuteTime": {
     "end_time": "2024-11-28T07:18:30.899658Z",
     "start_time": "2024-11-28T07:18:30.885545Z"
    }
   },
   "cell_type": "code",
   "source": "",
   "id": "633cf8a86bac6180",
   "outputs": [],
   "execution_count": null
  },
  {
   "metadata": {
    "ExecuteTime": {
     "end_time": "2024-12-04T06:02:13.677696Z",
     "start_time": "2024-12-04T06:02:13.666102Z"
    }
   },
   "cell_type": "code",
   "source": [
    "def logging(fn):\n",
    "    def inner(*args, **kwargs):\n",
    "        print(\"executing the addition program\")\n",
    "        return fn(*args, **kwargs)\n",
    "    return inner\n",
    "\n",
    "class Logging(object):\n",
    "    def __init__(self, fn):\n",
    "        self.__fn = fn\n",
    "        \n",
    "    def __call__(self, *args, **kwargs):\n",
    "        print(\"executing the program\")\n",
    "        return self.__fn(*args, **kwargs)\n",
    "    \n",
    "\n",
    "@Logging    \n",
    "def add(x, y):\n",
    "    print(x + y)\n",
    "    \n",
    "add(1, 2)"
   ],
   "id": "af29b5a43cb1332",
   "outputs": [
    {
     "name": "stdout",
     "output_type": "stream",
     "text": [
      "executing the program\n",
      "3\n"
     ]
    }
   ],
   "execution_count": 8
  },
  {
   "metadata": {},
   "cell_type": "code",
   "outputs": [],
   "execution_count": null,
   "source": "",
   "id": "6e9c5cf78dd6ff2c"
  }
 ],
 "metadata": {
  "kernelspec": {
   "display_name": "Python 3",
   "language": "python",
   "name": "python3"
  },
  "language_info": {
   "codemirror_mode": {
    "name": "ipython",
    "version": 2
   },
   "file_extension": ".py",
   "mimetype": "text/x-python",
   "name": "python",
   "nbconvert_exporter": "python",
   "pygments_lexer": "ipython2",
   "version": "2.7.6"
  }
 },
 "nbformat": 4,
 "nbformat_minor": 5
}
