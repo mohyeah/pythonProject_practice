{
 "cells": [
  {
   "cell_type": "code",
   "id": "initial_id",
   "metadata": {
    "collapsed": true,
    "ExecuteTime": {
     "end_time": "2024-11-27T07:18:34.453730Z",
     "start_time": "2024-11-27T07:18:34.432028Z"
    }
   },
   "source": [
    "# 闭包: 函数嵌套, 内部函数引用外部函数的局部变量\n",
    "# 三步走\n",
    "# 1. 有嵌套\n",
    "def outer():\n",
    "    # 局部变量\n",
    "    b = 20\n",
    "    def inner():\n",
    "        # 2. 有引用\n",
    "        print(b)\n",
    "    # 3. 有返回(返回的是函数名称, 即内存地址)\n",
    "    return inner\n",
    "\n",
    "# 调用outer函数\n",
    "f = outer()\n",
    "# 调用inner函数\n",
    "f()\n",
    "\n",
    "# 在Python中输出函数名称, 则会输出函数的内存地址\n",
    "# 当函数名() 时, 会调用函数的内存地址并执行\n",
    "\n",
    "\n"
   ],
   "outputs": [
    {
     "name": "stdout",
     "output_type": "stream",
     "text": [
      "20\n"
     ]
    }
   ],
   "execution_count": 1
  },
  {
   "metadata": {
    "ExecuteTime": {
     "end_time": "2024-11-27T07:35:18.306109Z",
     "start_time": "2024-11-27T07:35:18.296191Z"
    }
   },
   "cell_type": "code",
   "source": [
    "# 嵌套函数内部修改外部变量\n",
    "def outer():\n",
    "    num = 10\n",
    "    def inner():\n",
    "        # global 用于声明全局变量(使用或修改全局作用域中的某个变量)\n",
    "        # nonlocal 用于应用于嵌套环境, 适用于在嵌套函数的内部修改外部或访问外部函数的局部变量\n",
    "        nonlocal num\n",
    "        num = 20\n",
    "        print(num + 1)\n",
    "    print(num)\n",
    "    return inner\n",
    "\n",
    "f = outer()\n",
    "f()"
   ],
   "id": "b1a989b966163501",
   "outputs": [
    {
     "name": "stdout",
     "output_type": "stream",
     "text": [
      "10\n",
      "21\n"
     ]
    }
   ],
   "execution_count": 10
  },
  {
   "metadata": {
    "ExecuteTime": {
     "end_time": "2024-11-27T07:40:11.390529Z",
     "start_time": "2024-11-27T07:40:11.382342Z"
    }
   },
   "cell_type": "code",
   "source": [
    "# 闭包的综合案例\n",
    "def func():\n",
    "    result = 0  # \n",
    "    def inner(num):\n",
    "        nonlocal result\n",
    "        result += num\n",
    "        print(result)\n",
    "    return inner\n",
    "\n",
    "f = func()\n",
    "f(1)\n",
    "f(2)\n",
    "f(3)"
   ],
   "id": "93b38e162ce47ad5",
   "outputs": [
    {
     "name": "stdout",
     "output_type": "stream",
     "text": [
      "1\n",
      "3\n",
      "6\n"
     ]
    }
   ],
   "execution_count": 11
  },
  {
   "metadata": {
    "ExecuteTime": {
     "end_time": "2024-11-28T02:06:38.274048Z",
     "start_time": "2024-11-28T02:06:38.256072Z"
    }
   },
   "cell_type": "code",
   "source": [
    "# 装饰器:给已有函数增加额外功能, 本质是闭包函数\n",
    "# 特点: 不修改已有函数源代码及调用方式, 在不改变原有函数功能的基础上, 增加新的功能\n",
    "\n",
    "# 定义一个装饰器\n",
    "# 1.有嵌套\n",
    "def check(fn):  # 参数 fn, 要求传递被修饰函数的名称 \n",
    "                # 此时 fn 也是局部变量\n",
    "    def inner():\n",
    "        # 编写装饰器功能\n",
    "        print(\"please login\")\n",
    "        # 2.有引用\n",
    "        fn()\n",
    "    # 3.有返回\n",
    "    return inner\n",
    "# 定义一个已有函数\n",
    "def comment():\n",
    "    \n",
    "    print(\"leave a comment\")\n",
    "    \n",
    "# 调用装饰器装饰comment函数\n",
    "comment = check(comment)    # 调用check装饰器, 将comment函数的地址作为参数传递给check函数\n",
    "comment()   # 由于comment指向了inner函数, 故comment()代表执行inner函数\n",
    "\n",
    "\n"
   ],
   "id": "33b1233c5f5ecae4",
   "outputs": [
    {
     "name": "stdout",
     "output_type": "stream",
     "text": [
      "please login\n",
      "leave a comment\n"
     ]
    }
   ],
   "execution_count": 2
  },
  {
   "metadata": {
    "ExecuteTime": {
     "end_time": "2024-11-28T02:09:17.498859Z",
     "start_time": "2024-11-28T02:09:17.478770Z"
    }
   },
   "cell_type": "code",
   "source": [
    "# 装饰器语法糖\n",
    "\n",
    "# 1.有嵌套\n",
    "def check(fn):\n",
    "    def inner():\n",
    "        # 编写装饰器功能(修饰代码)\n",
    "        print(\"please login\")\n",
    "        # 2.有引用\n",
    "        fn()\n",
    "    # 3.有返回\n",
    "    return inner\n",
    "\n",
    "# 定义一个已有函数\n",
    "@check  # 语法糖\n",
    "def comment():\n",
    "    print(\"leave a comment\")\n",
    "\n",
    "comment()\n",
    "    \n"
   ],
   "id": "9c57300b34cb4c8a",
   "outputs": [
    {
     "name": "stdout",
     "output_type": "stream",
     "text": [
      "please login\n",
      "leave a comment\n"
     ]
    }
   ],
   "execution_count": 3
  },
  {
   "metadata": {
    "ExecuteTime": {
     "end_time": "2024-11-28T04:22:30.883237Z",
     "start_time": "2024-11-28T04:22:30.781841Z"
    }
   },
   "cell_type": "code",
   "source": [
    "import time\n",
    "# 装饰器作用\n",
    "# 1. 统计函数执行时间\n",
    "\n",
    "# 定义一个装饰器, 获取函数的执行时间\n",
    "def get_time(fn):   # fn 局部变量\n",
    "    \n",
    "    def inner():\n",
    "        # 为fn函数增添额外功能\n",
    "        start = time.time()\n",
    "        fn()    # 相当于执行了原函数\n",
    "        end = time.time()\n",
    "        print(f\"Function execution time:{end - start}\")\n",
    "        \n",
    "    return inner\n",
    "\n",
    "@get_time\n",
    "# 原有函数\n",
    "def func():\n",
    "    list1 = []\n",
    "    for i in range(1000000):\n",
    "        list1.append(i)\n",
    "\n",
    "func()\n",
    "\n"
   ],
   "id": "160903c1c69d3fbd",
   "outputs": [
    {
     "name": "stdout",
     "output_type": "stream",
     "text": [
      "Function execution time:0.08235287666320801\n"
     ]
    }
   ],
   "execution_count": 1
  },
  {
   "metadata": {},
   "cell_type": "code",
   "outputs": [],
   "execution_count": null,
   "source": "",
   "id": "b86d3623d92f2702"
  }
 ],
 "metadata": {
  "kernelspec": {
   "display_name": "Python 3",
   "language": "python",
   "name": "python3"
  },
  "language_info": {
   "codemirror_mode": {
    "name": "ipython",
    "version": 2
   },
   "file_extension": ".py",
   "mimetype": "text/x-python",
   "name": "python",
   "nbconvert_exporter": "python",
   "pygments_lexer": "ipython2",
   "version": "2.7.6"
  }
 },
 "nbformat": 4,
 "nbformat_minor": 5
}
