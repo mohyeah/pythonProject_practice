{
 "cells": [
  {
   "cell_type": "code",
   "id": "initial_id",
   "metadata": {
    "collapsed": true,
    "ExecuteTime": {
     "end_time": "2024-11-27T05:29:39.214496Z",
     "start_time": "2024-11-27T05:29:39.194901Z"
    }
   },
   "source": [
    "# 类属性和实例属性\n",
    "\n",
    "class Person(object):\n",
    "    # 类属性, 要与实例属性名称区分开\n",
    "    count = 0\n",
    "    def __init__(self, name, age):\n",
    "        # 实例属性\n",
    "        self.name = name\n",
    "        self.age = age\n",
    "        \n",
    "        # 类名.属性, 相当于调用类属性\n",
    "        # 统计该类被实例化的次数(统计总人数)\n",
    "        Person.count += 1\n",
    "\n",
    "    # 类方法, 要用@classmethod装饰器\n",
    "    @classmethod  # 类方法, 类名.方法()\n",
    "    def get_count(cls):     # cls参数, 指向类本身\n",
    "        return cls.count\n",
    "\n",
    "    \n",
    "p1 = Person('小明', 18)\n",
    "p2 = Person('小红', 19)\n",
    "print(Person.get_count())\n",
    "    "
   ],
   "outputs": [
    {
     "name": "stdout",
     "output_type": "stream",
     "text": [
      "2\n"
     ]
    }
   ],
   "execution_count": 4
  },
  {
   "metadata": {
    "ExecuteTime": {
     "end_time": "2024-11-27T05:35:31.750331Z",
     "start_time": "2024-11-27T05:35:31.741207Z"
    }
   },
   "cell_type": "code",
   "source": [
    "class Tool(object):\n",
    "    # 统计Tool类创建对象的个数\n",
    "    count = 0\n",
    "    def __init__(self, name):\n",
    "        self.name = name\n",
    "        \n",
    "        Tool.count += 1\n",
    "        \n",
    "    # 类方法, 用于操作类属性\n",
    "    @classmethod\n",
    "    def show_tool_count(cls):\n",
    "        print('工具对象的数量为: %d' % cls.count)\n",
    "        \n",
    "axe = Tool('斧子')\n",
    "pickaxe = Tool('镐子')\n",
    "awe = Tool('锄头')\n",
    "sward = Tool('剑')\n",
    "\n",
    "Tool.show_tool_count()\n",
    "    "
   ],
   "id": "e519868c2925ff2",
   "outputs": [
    {
     "name": "stdout",
     "output_type": "stream",
     "text": [
      "工具对象的数量为: 4\n"
     ]
    }
   ],
   "execution_count": 6
  },
  {
   "metadata": {
    "ExecuteTime": {
     "end_time": "2024-11-27T05:38:54.019805Z",
     "start_time": "2024-11-27T05:38:54.003243Z"
    }
   },
   "cell_type": "code",
   "source": [
    "# 静态方法: 不需要访问类属性方法和实例属性方法, 一般用于工具方法\n",
    "class Game(object):\n",
    "    \n",
    "    @staticmethod\n",
    "    # 静态方法, 无self参数\n",
    "    def menu():\n",
    "        print('欢迎来到游戏')\n",
    "        print('1. 开始游戏')\n",
    "        print('2. 退出游戏')\n",
    "        \n",
    "        \n",
    "Game.menu()\n",
    "\n",
    "g = Game()\n",
    "g.menu()\n",
    "\n"
   ],
   "id": "fecde03fc89d7e2f",
   "outputs": [
    {
     "name": "stdout",
     "output_type": "stream",
     "text": [
      "欢迎来到游戏\n",
      "1. 开始游戏\n",
      "2. 退出游戏\n",
      "欢迎来到游戏\n",
      "1. 开始游戏\n",
      "2. 退出游戏\n"
     ]
    }
   ],
   "execution_count": 8
  },
  {
   "metadata": {
    "ExecuteTime": {
     "end_time": "2024-11-27T05:45:38.755267Z",
     "start_time": "2024-11-27T05:45:38.749906Z"
    }
   },
   "cell_type": "code",
   "source": [
    "class Game(object):\n",
    "    # 定义类属性\n",
    "    top_score = 0\n",
    "    \n",
    "    def __init__(self, player_name):\n",
    "        self.player_name = player_name\n",
    "        \n",
    "    def play(self, score):\n",
    "        print('%s正在玩游戏' % self.player_name)\n",
    "        \n",
    "        # 判断是否更新最高分\n",
    "        if score > Game.top_score:\n",
    "            Game.top_score = score\n",
    "            \n",
    "        print('当前分数是%d, 现在最高分是%d' % (score, Game.top_score))\n",
    "        \n",
    "    @staticmethod\n",
    "    def show_help():\n",
    "        print('帮助信息: 输入数字开始游戏')\n",
    "        \n",
    "    @classmethod\n",
    "    def show_top_score(cls):\n",
    "        print('当前最高分是%d' % cls.top_score)\n",
    "        \n",
    "def main():\n",
    "    game1 = Game('小明')\n",
    "    game2 = Game('小红')\n",
    "    Game.show_help()\n",
    "    Game.show_top_score()\n",
    "    game1.play(100)\n",
    "    game2.play(200)\n",
    "    Game.show_top_score()\n",
    "    \n",
    "if __name__ == '__main__':\n",
    "    main()\n",
    "\n",
    "\n"
   ],
   "id": "38ad1eb98258158b",
   "outputs": [
    {
     "name": "stdout",
     "output_type": "stream",
     "text": [
      "帮助信息: 输入数字开始游戏\n",
      "当前最高分是0\n",
      "小明正在玩游戏\n",
      "当前分数是100, 现在最高分是100\n",
      "小红正在玩游戏\n",
      "当前分数是200, 现在最高分是200\n",
      "当前最高分是200\n"
     ]
    }
   ],
   "execution_count": 13
  },
  {
   "metadata": {},
   "cell_type": "code",
   "outputs": [],
   "execution_count": null,
   "source": "",
   "id": "5d2d324fc565ac64"
  }
 ],
 "metadata": {
  "kernelspec": {
   "display_name": "Python 3",
   "language": "python",
   "name": "python3"
  },
  "language_info": {
   "codemirror_mode": {
    "name": "ipython",
    "version": 2
   },
   "file_extension": ".py",
   "mimetype": "text/x-python",
   "name": "python",
   "nbconvert_exporter": "python",
   "pygments_lexer": "ipython2",
   "version": "2.7.6"
  }
 },
 "nbformat": 4,
 "nbformat_minor": 5
}
