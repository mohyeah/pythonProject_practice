{
 "cells": [
  {
   "cell_type": "code",
   "id": "initial_id",
   "metadata": {
    "collapsed": true,
    "ExecuteTime": {
     "end_time": "2024-11-23T11:17:43.283028Z",
     "start_time": "2024-11-23T11:17:43.267478Z"
    }
   },
   "source": [
    "class Student(object):\n",
    "    def __init__(self, name, score):\n",
    "        self.name = name\n",
    "        self.score = score\n",
    "    \n",
    "    def score_degree(self):\n",
    "        if self.score >= 90:\n",
    "            print('%s: %s' % (self.name, 'A'))\n",
    "        elif  80 <= self.score < 90:\n",
    "            print('%s: %s' % (self.name, 'B'))\n",
    "        elif 70 <= self.score < 80:\n",
    "            print('%s: %s' % (self.name, 'C'))\n",
    "        elif 60 <= self.score < 70:\n",
    "            print('%s: %s' % (self.name, 'D'))\n",
    "        elif self.score < 60:\n",
    "            print('%s: %s' % (self.name, 'E'))\n",
    "        else:\n",
    "            print('%s: %s' % (self.name, 'Invalid Score'))\n",
    "    \n",
    "stu1 = Student('Bob', 80)\n",
    "stu2 = Student('Alice', 60)\n",
    "stu3 = Student('Tim', 70)\n",
    "\n",
    "stu1.score_degree()\n",
    "            \n",
    "                "
   ],
   "outputs": [
    {
     "name": "stdout",
     "output_type": "stream",
     "text": [
      "Bob: B\n"
     ]
    }
   ],
   "execution_count": 3
  },
  {
   "metadata": {
    "ExecuteTime": {
     "end_time": "2024-11-23T11:24:20.381463Z",
     "start_time": "2024-11-23T11:24:20.366927Z"
    }
   },
   "cell_type": "code",
   "source": [
    "class Person(object):\n",
    "    def __init__(self, name, weight):\n",
    "        self.name = name\n",
    "        self.weight = weight\n",
    "    \n",
    "    def __str__(self):\n",
    "        return '我的名字叫%s, 我的体重是%.2fkg.' % (self.name, self.weight)\n",
    "    \n",
    "    def run(self):\n",
    "        print('%s is running...' % self.name)\n",
    "        self.weight -= 0.5\n",
    "    \n",
    "    def eat(self):\n",
    "        print('%s is eating...' % self.name)\n",
    "        self.weight += 1\n",
    "    \n",
    "    def tell(self):\n",
    "        print('我是%s, 我的体重是%.2fkg.' % (self.name, self.weight))\n",
    "        \n",
    "p1 = Person('Bob', 75.0)\n",
    "p1.run()\n",
    "p1.eat()\n",
    "print(p1)"
   ],
   "id": "33a1ee46bb414675",
   "outputs": [
    {
     "name": "stdout",
     "output_type": "stream",
     "text": [
      "Bob is running...\n",
      "Bob is eating...\n",
      "我的名字叫Bob, 我的体重是75.50kg.\n"
     ]
    }
   ],
   "execution_count": 9
  },
  {
   "metadata": {},
   "cell_type": "code",
   "outputs": [],
   "execution_count": null,
   "source": "",
   "id": "4e98560d549b0a"
  }
 ],
 "metadata": {
  "kernelspec": {
   "display_name": "Python 3",
   "language": "python",
   "name": "python3"
  },
  "language_info": {
   "codemirror_mode": {
    "name": "ipython",
    "version": 2
   },
   "file_extension": ".py",
   "mimetype": "text/x-python",
   "name": "python",
   "nbconvert_exporter": "python",
   "pygments_lexer": "ipython2",
   "version": "2.7.6"
  }
 },
 "nbformat": 4,
 "nbformat_minor": 5
}
