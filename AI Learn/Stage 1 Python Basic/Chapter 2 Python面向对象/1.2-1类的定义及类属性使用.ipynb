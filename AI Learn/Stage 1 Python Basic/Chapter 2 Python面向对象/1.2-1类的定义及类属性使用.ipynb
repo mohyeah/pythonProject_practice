{
 "cells": [
  {
   "metadata": {
    "ExecuteTime": {
     "end_time": "2024-11-23T07:46:49.581878Z",
     "start_time": "2024-11-23T07:46:49.562203Z"
    }
   },
   "cell_type": "code",
   "source": [
    "class Person(object):  # 新式类: 使用type()函数创建的类都是新式类\n",
    "    # 类的内部包括静态属性，类属性，实例属性，方法，静态方法，类方法，描述符等\n",
    "    # 定义相关属性和方法\n",
    "    def __init__(self, name, age):\n",
    "        self.name = name\n",
    "        self.age = age\n",
    "    def eat(self):\n",
    "        print(self) # self是实例对象\n",
    "        print(\"吃吃吃\")\n",
    "    def drink(self):\n",
    "        print(\"喝喝喝\")\n",
    "    def __repr__(self):\n",
    "        return \"我是一个对象\"\n",
    "        \n",
    "p1 = Person('Jack', 12)\n",
    "print(p1)\n",
    "p1.eat()\n"
   ],
   "id": "383d3c595da58bbb",
   "outputs": [
    {
     "name": "stdout",
     "output_type": "stream",
     "text": [
      "我是一个对象\n",
      "我是一个对象\n",
      "吃吃吃\n"
     ]
    }
   ],
   "execution_count": 15
  },
  {
   "cell_type": "code",
   "id": "initial_id",
   "metadata": {
    "collapsed": true,
    "ExecuteTime": {
     "end_time": "2024-11-23T07:50:00.287777Z",
     "start_time": "2024-11-23T07:50:00.270427Z"
    }
   },
   "source": [
    "class Cat(object):\n",
    "    def eat(self):\n",
    "        print(\"吃吃吃\")\n",
    "    def drink(self):\n",
    "        print(\"喝喝喝\")\n",
    "        \n",
    "cat1 = Cat()    # 创建对象\n",
    "# 动态为对象添加属性 name, age => 对象.属性 = 值\n",
    "cat1.name = \"Tom\"   \n",
    "cat1.age = 3\n",
    "print(cat1.name)\n",
    "        "
   ],
   "outputs": [
    {
     "name": "stdout",
     "output_type": "stream",
     "text": [
      "Tom\n"
     ]
    }
   ],
   "execution_count": 17
  },
  {
   "metadata": {
    "ExecuteTime": {
     "end_time": "2024-11-23T07:54:40.926559Z",
     "start_time": "2024-11-23T07:54:40.914133Z"
    }
   },
   "cell_type": "code",
   "source": [
    "class Monkey(object):\n",
    "    def show_info(self):\n",
    "        print(f\"我是一个猴子{self.name}, can do {self.skill}\")\n",
    "\n",
    "wk = Monkey()\n",
    "wk.name = \"wukong\"\n",
    "wk.skill = \"swing\"\n",
    "wk.show_info()"
   ],
   "id": "bda3d1221c696526",
   "outputs": [
    {
     "name": "stdout",
     "output_type": "stream",
     "text": [
      "我是一个猴子wukong, can do swing\n"
     ]
    }
   ],
   "execution_count": 20
  },
  {
   "metadata": {},
   "cell_type": "code",
   "outputs": [],
   "execution_count": null,
   "source": "",
   "id": "1498a985c1c2ba50"
  }
 ],
 "metadata": {
  "kernelspec": {
   "display_name": "Python 3",
   "language": "python",
   "name": "python3"
  },
  "language_info": {
   "codemirror_mode": {
    "name": "ipython",
    "version": 2
   },
   "file_extension": ".py",
   "mimetype": "text/x-python",
   "name": "python",
   "nbconvert_exporter": "python",
   "pygments_lexer": "ipython2",
   "version": "2.7.6"
  }
 },
 "nbformat": 4,
 "nbformat_minor": 5
}
