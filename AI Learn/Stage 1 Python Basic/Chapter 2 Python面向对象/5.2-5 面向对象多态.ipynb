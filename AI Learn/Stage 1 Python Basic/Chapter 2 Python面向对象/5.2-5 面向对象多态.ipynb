{
 "cells": [
  {
   "cell_type": "code",
   "id": "initial_id",
   "metadata": {
    "collapsed": true,
    "ExecuteTime": {
     "end_time": "2024-11-25T12:39:39.347982Z",
     "start_time": "2024-11-25T12:39:39.328930Z"
    }
   },
   "source": [
    "# 子类扩展父类的方法\n",
    "class Animal(object):\n",
    "    def __init__(self, name):\n",
    "        self.name = name\n",
    "\n",
    "    def eat(self):\n",
    "        print(f\"{self.name} is eating\")\n",
    "        \n",
    "    def sleep(self):\n",
    "        print(f\"{self.name} is sleeping\")\n",
    "\n",
    "class Dog(Animal):\n",
    "    def __init__(self, name, age):\n",
    "        super().__init__(name)  # 调用父类中的初始化方法, 对name属性初始化\n",
    "        self.age = age\n",
    "\n",
    "    def eat(self):      # 重写父类方法\n",
    "        print(f\"{self.name} is eating meat\")\n",
    "\n",
    "class Cat(Animal):\n",
    "    def __init__(self, name, age):\n",
    "        super().__init__(name)  # super().属性 或 super().方法名\n",
    "        self.age = age\n",
    "\n",
    "    def eat(self):\n",
    "        print(f\"{self.name} is eating fish\")\n",
    "        \n",
    "dog = Dog(\"Doge\", 2)\n",
    "cat = Cat(\"Kitty\", 3)\n",
    "dog.eat()\n",
    "cat.eat()\n",
    "dog.sleep()     # 优先使用子类中方法, 否则父类方法\n",
    "\n",
    "# MRO属性 或 MRO方法 解析顺序  -> 了解类的继承关系\n",
    "print(Dog.__mro__)  # 返回一个元组\n",
    "Dog.mro()   # 返回一个列表\n"
   ],
   "outputs": [
    {
     "name": "stdout",
     "output_type": "stream",
     "text": [
      "Doge is eating meat\n",
      "Kitty is eating fish\n",
      "Doge is sleeping\n",
      "(<class '__main__.Dog'>, <class '__main__.Animal'>, <class 'object'>)\n"
     ]
    },
    {
     "data": {
      "text/plain": [
       "[__main__.Dog, __main__.Animal, object]"
      ]
     },
     "execution_count": 15,
     "metadata": {},
     "output_type": "execute_result"
    }
   ],
   "execution_count": 15
  },
  {
   "metadata": {
    "ExecuteTime": {
     "end_time": "2024-11-25T12:36:45.771718Z",
     "start_time": "2024-11-25T12:36:45.756617Z"
    }
   },
   "cell_type": "code",
   "source": [
    "# Python中的多态\n",
    "\n"
   ],
   "id": "d33c0bdde5ef5a3d",
   "outputs": [],
   "execution_count": 8
  },
  {
   "metadata": {},
   "cell_type": "code",
   "outputs": [],
   "execution_count": null,
   "source": "",
   "id": "719fa4dcfc0d7bde"
  }
 ],
 "metadata": {
  "kernelspec": {
   "display_name": "Python 3",
   "language": "python",
   "name": "python3"
  },
  "language_info": {
   "codemirror_mode": {
    "name": "ipython",
    "version": 2
   },
   "file_extension": ".py",
   "mimetype": "text/x-python",
   "name": "python",
   "nbconvert_exporter": "python",
   "pygments_lexer": "ipython2",
   "version": "2.7.6"
  }
 },
 "nbformat": 4,
 "nbformat_minor": 5
}
