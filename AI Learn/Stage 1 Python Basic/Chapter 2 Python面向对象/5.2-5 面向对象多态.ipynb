{
 "cells": [
  {
   "cell_type": "code",
   "id": "initial_id",
   "metadata": {
    "collapsed": true,
    "ExecuteTime": {
     "end_time": "2024-11-26T04:15:49.661864Z",
     "start_time": "2024-11-26T04:15:49.639437Z"
    }
   },
   "source": [
    "# 子类扩展父类的方法\n",
    "class Animal(object):\n",
    "    def __init__(self, name):\n",
    "        self.name = name\n",
    "\n",
    "    def eat(self):\n",
    "        print(f\"{self.name} is eating\")\n",
    "        \n",
    "    def sleep(self):\n",
    "        print(f\"{self.name} is sleeping\")\n",
    "\n",
    "class Dog(Animal):\n",
    "    def __init__(self, name, age):\n",
    "        super().__init__(name)  # 调用父类中的初始化方法, 对name属性初始化\n",
    "        self.age = age\n",
    "\n",
    "    def eat(self):      # 重写父类方法\n",
    "        print(f\"{self.name} is eating meat\")\n",
    "\n",
    "class Cat(Animal):\n",
    "    def __init__(self, name, age):\n",
    "        super().__init__(name)  # super().属性 或 super().方法名\n",
    "        self.age = age\n",
    "\n",
    "    def eat(self):\n",
    "        print(f\"{self.name} is eating fish\")\n",
    "        \n",
    "dog = Dog(\"Doge\", 2)\n",
    "cat = Cat(\"Kitty\", 3)\n",
    "dog.eat()\n",
    "cat.eat()\n",
    "dog.sleep()     # 优先使用子类中方法, 否则父类方法\n",
    "\n",
    "# MRO属性 或 MRO方法 解析顺序  -> 了解类的继承关系\n",
    "print(Dog.__mro__)  # 返回一个元组\n",
    "Dog.mro()   # 返回一个列表\n"
   ],
   "outputs": [
    {
     "name": "stdout",
     "output_type": "stream",
     "text": [
      "Doge is eating meat\n",
      "Kitty is eating fish\n",
      "Doge is sleeping\n",
      "(<class '__main__.Dog'>, <class '__main__.Animal'>, <class 'object'>)\n"
     ]
    },
    {
     "data": {
      "text/plain": [
       "[__main__.Dog, __main__.Animal, object]"
      ]
     },
     "execution_count": 3,
     "metadata": {},
     "output_type": "execute_result"
    }
   ],
   "execution_count": 3
  },
  {
   "metadata": {
    "ExecuteTime": {
     "end_time": "2024-11-26T04:45:23.278271Z",
     "start_time": "2024-11-26T04:45:23.263931Z"
    }
   },
   "cell_type": "code",
   "source": [
    "# Python中的多态\n",
    "# 不同对象使用相同方法的时候，会调用对应的方法, 产生不同结果\n",
    "'''\n",
    "多态特性：一种公共方法，随着传入参数（对象）不同，则同一个方法可以返回不同的结果\n",
    "'''\n",
    "class Fruit(object):\n",
    "    # 这个makejuice方法里面可以什么都不写，主要是为了规范子类的行为\n",
    "    # 父类有makejuice方法，则子类必须拥有这个方法，然后对其进行重写\n",
    "    # 在其他编程语言中，这个方法叫抽象方法\n",
    "    def make_juice(self):\n",
    "        print(f\"I can make juice\")\n",
    "        \n",
    "class Apple(Fruit):\n",
    "    # 重写父类方法\n",
    "    def make_juice(self):\n",
    "        print(f\"I can make apple juice\")\n",
    "        \n",
    "class Banana(Fruit):\n",
    "    def make_juice(self):\n",
    "        print(f\"I can make banana juice\")\n",
    "        \n",
    "# 定义一个公共的方法, 用于调用make_juice方法\n",
    "def service(fruit):\n",
    "    fruit.make_juice()\n",
    "\n",
    "service(Apple())    # 调用Apple类中的make_juice方法\n",
    "banana = Banana()\n",
    "service(banana)\n",
    "service(Fruit())"
   ],
   "id": "d33c0bdde5ef5a3d",
   "outputs": [
    {
     "name": "stdout",
     "output_type": "stream",
     "text": [
      "I can make apple juice\n",
      "I can make banana juice\n",
      "I can make juice\n"
     ]
    }
   ],
   "execution_count": 8
  },
  {
   "metadata": {
    "ExecuteTime": {
     "end_time": "2024-11-26T04:51:49.754480Z",
     "start_time": "2024-11-26T04:51:49.736227Z"
    }
   },
   "cell_type": "code",
   "source": [
    "# 多态要有继承关系, 还要编写公共接口 -> 以后调用都是通过这个接口(要求传入的参数必须是一个子类对象\n",
    "# 多态特性：一种公共方法，随着传入参数（对象）不同，则同一个方法可以返回不同的结果\n",
    "\n",
    "class Dog(object):\n",
    "    # 抽象方法\n",
    "    def work(self):\n",
    "        print(\"sleep\")\n",
    "        \n",
    "class ArmyDog(Dog):\n",
    "    # 重写父类方法\n",
    "    def work(self):\n",
    "        print(\"追击敌人\")\n",
    "        \n",
    "class PetDog(Dog):\n",
    "    # 重写父类方法\n",
    "    def work(self):\n",
    "        print(\"看家\")\n",
    "        \n",
    "class Person(object):\n",
    "    # 定义一个公共接口(必须要有一个参数, 要求是一个对象类型)\n",
    "    def work_with_dog(self, dog):   # 传入不同对象, 执行不同代码, 即不同的work函数\n",
    "        dog.work()\n",
    "        \n",
    "ad = ArmyDog()\n",
    "pd = PetDog()\n",
    "\n",
    "police = Person()\n",
    "# 调用公共接口\n",
    "police.work_with_dog(ad)\n",
    "police.work_with_dog(pd)\n"
   ],
   "id": "719fa4dcfc0d7bde",
   "outputs": [
    {
     "name": "stdout",
     "output_type": "stream",
     "text": [
      "追击敌人\n",
      "看家\n"
     ]
    }
   ],
   "execution_count": 10
  },
  {
   "metadata": {},
   "cell_type": "code",
   "outputs": [],
   "execution_count": null,
   "source": [
    "# + 也是一种多态体现\n",
    "1 + 1\n",
    "'a' + 'b'\n",
    "[1, 2, 3] + [4, 5]"
   ],
   "id": "8d8495bfa98c30e8"
  }
 ],
 "metadata": {
  "kernelspec": {
   "display_name": "Python 3",
   "language": "python",
   "name": "python3"
  },
  "language_info": {
   "codemirror_mode": {
    "name": "ipython",
    "version": 2
   },
   "file_extension": ".py",
   "mimetype": "text/x-python",
   "name": "python",
   "nbconvert_exporter": "python",
   "pygments_lexer": "ipython2",
   "version": "2.7.6"
  }
 },
 "nbformat": 4,
 "nbformat_minor": 5
}
