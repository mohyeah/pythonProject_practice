{
 "cells": [
  {
   "cell_type": "code",
   "id": "initial_id",
   "metadata": {
    "collapsed": true,
    "ExecuteTime": {
     "end_time": "2024-11-23T11:21:54.484365Z",
     "start_time": "2024-11-23T11:21:54.465238Z"
    }
   },
   "source": [
    "class Person(object):\n",
    "    # 初始化实例对象属性\n",
    "    def __init__(self, name, age):  # self代表当前对象\n",
    "        # 赋予实例对象属性\n",
    "        self.name = name    # self.实例化对象属性 = 参数\n",
    "        self.age = age\n",
    "    def __str__(self):\n",
    "        return 'Person: %s, %d' % (self.name, self.age)\n",
    "    def __repr__(self):\n",
    "        return 'Person(%s, %d)' % (self.name, self.age)\n",
    "    def __del__(self):\n",
    "        # 用于执行程序的销毁操作\n",
    "        print ('delete Person: %s, %d' % (self.name, self.age))\n",
    "\n",
    "p1 = Person('Alice', 20)\n",
    "p2 = Person('Bob', 30)\n",
    "print(p2.age)\n",
    "\n",
    "del p2  # 执行後,销毁方法被调用,对象p2被销毁\n"
   ],
   "outputs": [
    {
     "name": "stdout",
     "output_type": "stream",
     "text": [
      "30\n",
      "delete Person: Bob, 30\n"
     ]
    }
   ],
   "execution_count": 5
  },
  {
   "metadata": {
    "ExecuteTime": {
     "end_time": "2024-11-23T08:26:34.249522Z",
     "start_time": "2024-11-23T08:26:34.243537Z"
    }
   },
   "cell_type": "code",
   "source": [
    "class Car(object):\n",
    "    def __init__(self, brand, color, model):\n",
    "        self.brand = brand\n",
    "        self.color = color\n",
    "        self.model = model\n",
    "    \n",
    "    # 当print打印对象相关信息是时,会自动调用该方法, 必须return 一个字符串\n",
    "    def __str__(self):\n",
    "        return 'Car: %s, %s, %s' % (self.brand, self.color, self.model)\n",
    "    # 用于在交互式环境下打印对象的信息\n",
    "    def __repr__(self):\n",
    "        return 'The Car(%s, %s, %s)' % (self.brand, self.color, self.model)\n",
    "    # 在对象销毁时调用, 适用于关闭文件,关闭数据库连接等\n",
    "    def __del__(self):\n",
    "        return 'delete Car: %s, %s, %s' % (self.brand, self.color, self.model)\n",
    "    \n",
    "tesla = Car('Tesla', 'white', 'Model S')\n",
    "print(tesla)\n",
    "tesla"
   ],
   "id": "5772b6d18e4cb8fa",
   "outputs": [
    {
     "name": "stdout",
     "output_type": "stream",
     "text": [
      "Car: Tesla, white, Model S\n"
     ]
    },
    {
     "data": {
      "text/plain": [
       "The Car(Tesla, white, Model S)"
      ]
     },
     "execution_count": 21,
     "metadata": {},
     "output_type": "execute_result"
    }
   ],
   "execution_count": 21
  },
  {
   "metadata": {},
   "cell_type": "code",
   "outputs": [],
   "execution_count": null,
   "source": "",
   "id": "ac666763118f8d7d"
  }
 ],
 "metadata": {
  "kernelspec": {
   "display_name": "Python 3",
   "language": "python",
   "name": "python3"
  },
  "language_info": {
   "codemirror_mode": {
    "name": "ipython",
    "version": 2
   },
   "file_extension": ".py",
   "mimetype": "text/x-python",
   "name": "python",
   "nbconvert_exporter": "python",
   "pygments_lexer": "ipython2",
   "version": "2.7.6"
  }
 },
 "nbformat": 4,
 "nbformat_minor": 5
}
