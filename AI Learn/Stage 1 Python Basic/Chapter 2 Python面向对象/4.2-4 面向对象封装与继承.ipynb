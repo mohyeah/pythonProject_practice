{
 "cells": [
  {
   "cell_type": "code",
   "id": "initial_id",
   "metadata": {
    "collapsed": true,
    "ExecuteTime": {
     "end_time": "2024-11-23T11:43:57.318048Z",
     "start_time": "2024-11-23T11:43:57.301310Z"
    }
   },
   "source": [
    "from gc import get_freeze_count\n",
    "\n",
    "from PIL.DdsImagePlugin import item1\n",
    "\n",
    "\n",
    "# 私有属性: 明确区分内外, 控制外部对隐藏的属性的操作行为(过滤异常数据)\n",
    "\n",
    "\n",
    "class Girl(object):\n",
    "    def __init__(self, name):\n",
    "        self.name = name\n",
    "        self.__age = 18 # 声明为私有属性, 不能被子类继承\n",
    "        \n",
    "    # 访问器 - getter方法 提供给外部的访问接口\n",
    "    # 该函数不是针对所有用户而是针对特定的用户(角色验证)\n",
    "    def get_age(self):\n",
    "        # 使用该函数前,必须进行权限验证\n",
    "        return self.__age\n",
    "    \n",
    "    # 修改器 - setter方法 提供给外部的修改接口\n",
    "    def set_age(self, age):\n",
    "        # 使用该函数前,必须进行权限验证\n",
    "        if age > 18:    # 当设置的值合理时, 设置该值\n",
    "            self.__age = age\n",
    "            return True\n",
    "        else:\n",
    "            print('Age must be greater than 18')\n",
    "        \n",
    "sandy = Girl('Sandy')\n",
    "print(sandy.name)\n",
    "print(sandy.get_age())\n",
    "sandy.set_age(19)"
   ],
   "outputs": [
    {
     "name": "stdout",
     "output_type": "stream",
     "text": [
      "Sandy\n",
      "18\n"
     ]
    },
    {
     "data": {
      "text/plain": [
       "True"
      ]
     },
     "execution_count": 6,
     "metadata": {},
     "output_type": "execute_result"
    }
   ],
   "execution_count": 6
  },
  {
   "metadata": {
    "ExecuteTime": {
     "end_time": "2024-11-24T08:19:51.609097Z",
     "start_time": "2024-11-24T08:19:51.591140Z"
    }
   },
   "cell_type": "code",
   "source": [
    "# 家具摆放案例\n",
    "\"\"\"\n",
    "设计一个家具类, 描述家具的名称和占地面积\n",
    "设计一个家居类, 描述家居的地址和占地面积, 同时可以添加家具\n",
    "\"\"\"\n",
    "# 家具类\n",
    "class Furniture(object):\n",
    "    def __init__(self, name, area):\n",
    "        self.name = name\n",
    "        self.area = area\n",
    "    \n",
    "    def __repr__(self):\n",
    "        return f\"{self.name}\"\n",
    "\n",
    "class Home(object):\n",
    "    # 定义属性\n",
    "    def __init__(self, area, addr):\n",
    "        self.addr = addr\n",
    "        self.total_area = area\n",
    "        self.occupied_area = 0\n",
    "        self.contain_items = []\n",
    "    # 定义输出方法\n",
    "    def __str__(self):\n",
    "        item_str = ','.join(str(item) for item in self.contain_items)\n",
    "        return (f\"Address: {self.addr}, Total Area: {self.total_area}, \"\n",
    "                f\"Occupied Area: {self.occupied_area}, Contain Items: {self.contain_items}\")   \n",
    "    def get_free_area(self):\n",
    "        return self.total_area - self.occupied_area\n",
    "    def show_items(self):\n",
    "        for item in self.contain_items:\n",
    "            print(item)\n",
    "    # 定义添加家具方法\n",
    "    def add_item(self, item):\n",
    "        if self.get_free_area() >= item.area:\n",
    "            self.contain_items.append(item)\n",
    "            self.occupied_area += item.area\n",
    "            return True\n",
    "        else:\n",
    "            print('No enough area')\n",
    "    def remove_item(self, item):\n",
    "        if item in self.contain_items:\n",
    "            self.contain_items.remove(item)\n",
    "            self.occupied_area -= item.area\n",
    "            return True\n",
    "        else:\n",
    "            print(f'{item} not in home')\n",
    "        \n",
    "        \n",
    "home1 = Home(100, 'chengdu')\n",
    "print(home1)  # 输出: Address: chengdu, Area: 100, contain_items:not yet.\n",
    "home1.add_item(Furniture('chair', 30))\n",
    "print(home1)  # 输出: Address: chengdu, Area: 70, contain_items:chair,\n",
    "home1.add_item(Furniture('bed', 50))\n",
    "print(home1)  # 输出: Address: chengdu, Area: 20, contain_items:chair,bed,\n",
    "home1.remove_item(Furniture('chair', 30))\n",
    "print(home1)  # 输出: Address: chengdu, Area: 50, contain_items:bed,\n",
    "home1.remove_item(Furniture('table', 20))  # 输出: table not in home\n",
    "print(home1)  # 输出: Address: chengdu, Area: 50, contain_items:bed,\n",
    "\n"
   ],
   "id": "115054e6c8907416",
   "outputs": [
    {
     "name": "stdout",
     "output_type": "stream",
     "text": [
      "Address: chengdu, Total Area: 100, Occupied Area: 0, Contain Items: []\n",
      "Address: chengdu, Total Area: 100, Occupied Area: 30, Contain Items: [chair]\n",
      "Address: chengdu, Total Area: 100, Occupied Area: 80, Contain Items: [chair, bed]\n",
      "chair not in home\n",
      "Address: chengdu, Total Area: 100, Occupied Area: 80, Contain Items: [chair, bed]\n",
      "table not in home\n",
      "Address: chengdu, Total Area: 100, Occupied Area: 80, Contain Items: [chair, bed]\n"
     ]
    }
   ],
   "execution_count": 48
  },
  {
   "metadata": {},
   "cell_type": "code",
   "outputs": [],
   "execution_count": null,
   "source": "",
   "id": "8d032f87c8e3c170"
  }
 ],
 "metadata": {
  "kernelspec": {
   "display_name": "Python 3",
   "language": "python",
   "name": "python3"
  },
  "language_info": {
   "codemirror_mode": {
    "name": "ipython",
    "version": 2
   },
   "file_extension": ".py",
   "mimetype": "text/x-python",
   "name": "python",
   "nbconvert_exporter": "python",
   "pygments_lexer": "ipython2",
   "version": "2.7.6"
  }
 },
 "nbformat": 4,
 "nbformat_minor": 5
}
