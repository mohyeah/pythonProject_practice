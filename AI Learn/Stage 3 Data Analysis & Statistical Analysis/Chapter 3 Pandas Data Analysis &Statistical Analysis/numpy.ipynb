{
 "cells": [
  {
   "cell_type": "code",
   "execution_count": 1,
   "id": "initial_id",
   "metadata": {
    "ExecuteTime": {
     "end_time": "2024-12-23T04:47:48.089768Z",
     "start_time": "2024-12-23T04:47:47.268093Z"
    },
    "collapsed": true
   },
   "outputs": [
    {
     "name": "stdout",
     "output_type": "stream",
     "text": [
      "数组的维度: (3, 5)\n",
      "数组轴的个数: 2\n",
      "数组元素类型: int64\n",
      "数组中每个元素的字节大小: 8\n",
      "数组元素的总个数: 15\n",
      "类型查询: <class 'numpy.ndarray'>\n",
      "数组b: [6 7 8]\n",
      "数组b类型: <class 'numpy.ndarray'>\n"
     ]
    }
   ],
   "source": [
    "import numpy as np\n",
    "a = np.arange(15).reshape(3, 5)\n",
    "print(\"数组的维度:\", a.shape)\n",
    "print(\"数组轴的个数:\", a.ndim)\n",
    "print(\"数组元素类型:\", a.dtype)\n",
    "print(\"数组中每个元素的字节大小:\", a.itemsize)\n",
    "print(\"数组元素的总个数:\", a.size)\n",
    "print(\"类型查询:\", type(a))\n",
    "\n",
    "#创建一个数组\n",
    "b = np.array([6, 7, 8])\n",
    "print (\"数组b:\",b)\n",
    "print (\"数组b类型:\",type(b))"
   ]
  },
  {
   "cell_type": "code",
   "execution_count": 20,
   "id": "63b371fbe8df9e11",
   "metadata": {
    "ExecuteTime": {
     "end_time": "2024-12-23T05:06:21.598947Z",
     "start_time": "2024-12-23T05:06:21.580247Z"
    }
   },
   "outputs": [
    {
     "name": "stdout",
     "output_type": "stream",
     "text": [
      "type of a: int64\n",
      "type of b float64\n"
     ]
    }
   ],
   "source": [
    "import numpy as np\n",
    "a = np.array([2, 3, 4])\n",
    "print(\"type of a:\",a.dtype)\n",
    "b = np.array([1.2, 3.5, 5.1])\n",
    "print(\"type of b:\", b.dtype)"
   ]
  },
  {
   "cell_type": "code",
   "execution_count": 21,
   "id": "4f4e16152135143e",
   "metadata": {
    "ExecuteTime": {
     "end_time": "2024-12-23T05:06:54.213659Z",
     "start_time": "2024-12-23T05:06:54.200415Z"
    }
   },
   "outputs": [
    {
     "name": "stdout",
     "output_type": "stream",
     "text": [
      "数组zeros1: [[0. 0. 0. 0.]\n",
      " [0. 0. 0. 0.]\n",
      " [0. 0. 0. 0.]]\n",
      "数组ones1: [[[1. 1. 1. 1.]\n",
      "  [1. 1. 1. 1.]\n",
      "  [1. 1. 1. 1.]]\n",
      "\n",
      " [[1. 1. 1. 1.]\n",
      "  [1. 1. 1. 1.]\n",
      "  [1. 1. 1. 1.]]]\n",
      "数组empty1: [[9.9e-324 9.9e-324 9.9e-324]\n",
      " [1.5e-323 1.5e-323 1.5e-323]]\n"
     ]
    }
   ],
   "source": [
    "zeros1=np.zeros( (3,4) )\n",
    "print (\"数组zeros1:\",zeros1)\n",
    "ones1=np.ones((2,3,4))\n",
    "print (\"数组ones1:\",ones1)\n",
    "empty1 = np.empty((2, 3))\n",
    "print (\"数组empty1:\",empty1)"
   ]
  },
  {
   "cell_type": "code",
   "execution_count": 23,
   "id": "f8505e9b15b7df8e",
   "metadata": {
    "ExecuteTime": {
     "end_time": "2024-12-23T05:08:29.900249Z",
     "start_time": "2024-12-23T05:08:29.883922Z"
    }
   },
   "outputs": [
    {
     "name": "stdout",
     "output_type": "stream",
     "text": [
      "数组np_arange: [10 15]\n"
     ]
    }
   ],
   "source": [
    "np_arange = np.arange(10, 20, 5, dtype=np.int32)\n",
    "print (\"数组np_arange:\",np_arange)"
   ]
  },
  {
   "cell_type": "code",
   "execution_count": 28,
   "id": "102d30582751bf50",
   "metadata": {
    "ExecuteTime": {
     "end_time": "2024-12-23T05:10:43.775580Z",
     "start_time": "2024-12-23T05:10:43.760970Z"
    }
   },
   "outputs": [
    {
     "name": "stdout",
     "output_type": "stream",
     "text": [
      "[[1 2]\n",
      " [3 4]]\n",
      "[[1 2]\n",
      " [3 4]]\n",
      "[[1 2 3 4]\n",
      " [5 6 7 8]]\n"
     ]
    }
   ],
   "source": [
    "# 创建矩阵\n",
    "x1 = np.matrix(\"1 2;3 4\")\n",
    "print(x1)\n",
    "x2 = np.matrix(\"1,2;3,4\")\n",
    "print(x2)\n",
    "x3 = np.matrix([[1, 2, 3, 4], [5, 6, 7, 8]])\n",
    "print(x3)"
   ]
  },
  {
   "cell_type": "code",
   "execution_count": 30,
   "id": "94842c9430f11887",
   "metadata": {
    "ExecuteTime": {
     "end_time": "2024-12-23T05:12:03.904410Z",
     "start_time": "2024-12-23T05:12:03.876355Z"
    }
   },
   "outputs": [
    {
     "name": "stdout",
     "output_type": "stream",
     "text": [
      "[[0.68129462 0.74750912 0.37117437 0.71050078]\n",
      " [0.65683644 0.54636347 0.17593157 0.07100416]\n",
      " [0.0616919  0.8143189  0.31495931 0.43338695]]\n",
      "<class 'numpy.ndarray'>\n",
      "[[ 2  2  2 -1]\n",
      " [ 0  4  3  3]\n",
      " [ 1  4  0 -1]]\n",
      "<class 'numpy.ndarray'>\n",
      "[[ 1.40292664  4.04065006  1.69530484 -0.87488639]\n",
      " [ 4.62770285  0.13152356 -0.99459007  1.81560634]\n",
      " [-0.82338396  4.11485484  0.43794772  3.9388107 ]]\n",
      "<class 'numpy.ndarray'>\n"
     ]
    }
   ],
   "source": [
    "# 生成指定维度大小（3行4列）的随机多维浮点型数据（二维），rand固定区间0.0 ~ 1.0\n",
    "arr = np.random.rand(3, 4)\n",
    "print(arr)\n",
    "print(type(arr))\n",
    "\n",
    "# 生成指定维度大小（3行4列）的随机多维整型数据（二维），randint()可以指定区间（-1, 5）\n",
    "arr = np.random.randint(-1, 5, size = (3, 4))\n",
    "print(arr)\n",
    "print(type(arr))\n",
    "\n",
    "# 生成指定维度大小（3行4列）的随机多维浮点型数据（二维），uniform()可以指定区间（-1, 5）产生-1到5之间均匀分布的样本值\n",
    "arr = np.random.uniform(-1, 5, size = (3, 4)) #\n",
    "print(arr)\n",
    "print(type(arr))"
   ]
  },
  {
   "cell_type": "code",
   "execution_count": 31,
   "id": "5d740ddd82e0ac2b",
   "metadata": {
    "ExecuteTime": {
     "end_time": "2024-12-23T05:13:28.535193Z",
     "start_time": "2024-12-23T05:13:28.513916Z"
    }
   },
   "outputs": [
    {
     "name": "stdout",
     "output_type": "stream",
     "text": [
      "[[0. 0. 0. 0.]\n",
      " [0. 0. 0. 0.]\n",
      " [0. 0. 0. 0.]]\n",
      "float64\n",
      "[[0 0 0 0]\n",
      " [0 0 0 0]\n",
      " [0 0 0 0]]\n",
      "int32\n"
     ]
    }
   ],
   "source": [
    "# 初始化3行4列数组，数据类型为float64\n",
    "zeros_float_arr = np.zeros((3, 4), dtype=np.float64)\n",
    "print(zeros_float_arr)\n",
    "print(zeros_float_arr.dtype) #float64\n",
    "\n",
    "# astype转换数据类型，将已有的数组的数据类型转换为int32\n",
    "zeros_int_arr = zeros_float_arr.astype(np.int32)\n",
    "print(zeros_int_arr)\n",
    "print(zeros_int_arr.dtype)  #int32"
   ]
  },
  {
   "cell_type": "code",
   "execution_count": 38,
   "id": "7c7d510970719f01",
   "metadata": {
    "ExecuteTime": {
     "end_time": "2024-12-23T05:16:24.182679Z",
     "start_time": "2024-12-23T05:16:24.163875Z"
    }
   },
   "outputs": [
    {
     "data": {
      "text/plain": [
       "array([  1,   2,   4,   8,  16,  32,  64, 128, 256, 512], dtype=int32)"
      ]
     },
     "execution_count": 38,
     "metadata": {},
     "output_type": "execute_result"
    }
   ],
   "source": [
    "# 等比数列\n",
    "a = np.logspace(0, 9, 10, base=2, dtype=np.int32)\n",
    "a"
   ]
  },
  {
   "cell_type": "code",
   "execution_count": 39,
   "id": "1983a017abcf4ad7",
   "metadata": {
    "ExecuteTime": {
     "end_time": "2024-12-23T05:16:42.308933Z",
     "start_time": "2024-12-23T05:16:42.292781Z"
    }
   },
   "outputs": [
    {
     "data": {
      "text/plain": [
       "array([0.        , 0.11111111, 0.22222222, 0.33333333, 0.44444444,\n",
       "       0.55555556, 0.66666667, 0.77777778, 0.88888889])"
      ]
     },
     "execution_count": 39,
     "metadata": {},
     "output_type": "execute_result"
    }
   ],
   "source": [
    "# 等差数列\n",
    "b = np.linspace(0, 1, 9, endpoint=False)\n",
    "b"
   ]
  },
  {
   "cell_type": "code",
   "execution_count": 10,
   "id": "920694b7f453c99b",
   "metadata": {
    "ExecuteTime": {
     "end_time": "2024-12-23T04:54:46.735153Z",
     "start_time": "2024-12-23T04:54:46.618823Z"
    }
   },
   "outputs": [
    {
     "name": "stdout",
     "output_type": "stream",
     "text": [
      "[[-1.37275086  0.7054038  -1.17904549]\n",
      " [ 0.37974221 -0.52803521 -1.40112949]]\n",
      "[[-1.  1. -1.]\n",
      " [ 1. -0. -1.]]\n",
      "[[-2.  0. -2.]\n",
      " [ 0. -1. -2.]]\n",
      "[[-1.  1. -1.]\n",
      " [ 0. -1. -1.]]\n",
      "[[False False False]\n",
      " [False False False]]\n",
      "[[1.88444491 0.49759452 1.39014828]\n",
      " [0.14420415 0.27882118 1.96316386]]\n",
      "[[1. 1. 1.]\n",
      " [1. 1. 1.]]\n",
      "[[-1  1 -1]\n",
      " [ 1 -1 -1]]\n"
     ]
    }
   ],
   "source": [
    "# 1. 基本函数\n",
    "# randn() 返回具有标准正态分布的序列。\n",
    "arr = np.random.randn(2,3)\n",
    "\n",
    "print(arr)\n",
    "print(np.ceil(arr)) # 向上取整\n",
    "print(np.floor(arr))    # 向下取整\n",
    "print(np.rint(arr)) # 四舍五入\n",
    "print(np.isnan(arr))    # 判断是否为NaN\n",
    "print(np.multiply(arr, arr))    # 对应元素相乘\n",
    "print(np.divide(arr, arr))  # 对应元素相除\n",
    "print(np.where(arr > 0, 1, -1)) # 三元运算符"
   ]
  },
  {
   "cell_type": "code",
   "execution_count": 11,
   "id": "1c930a5b9ffef841",
   "metadata": {
    "ExecuteTime": {
     "end_time": "2024-12-23T04:56:55.202961Z",
     "start_time": "2024-12-23T04:56:55.167593Z"
    }
   },
   "outputs": [
    {
     "name": "stdout",
     "output_type": "stream",
     "text": [
      "[[ 0  1  2  3]\n",
      " [ 4  5  6  7]\n",
      " [ 8  9 10 11]]\n",
      "[ 0  1  3  6 10 15 21 28 36 45 55 66]\n",
      "66\n",
      "[12 15 18 21]\n",
      "[ 6 22 38]\n"
     ]
    }
   ],
   "source": [
    "# 2. 统计函数\n",
    "arr = np.arange(12).reshape(3,4)\n",
    "\n",
    "print(arr)\n",
    "print(np.cumsum(arr)) # 返回一个一维数组，每个元素都是之前所有元素的 累加和\n",
    "print(np.sum(arr)) # 所有元素的和\n",
    "print(np.sum(arr, axis=0)) # 数组的按列统计和\n",
    "print(np.sum(arr, axis=1)) # 数组的按行统计和"
   ]
  },
  {
   "cell_type": "code",
   "execution_count": 12,
   "id": "8340a82196701f4d",
   "metadata": {
    "ExecuteTime": {
     "end_time": "2024-12-23T04:59:03.151545Z",
     "start_time": "2024-12-23T04:59:03.135879Z"
    }
   },
   "outputs": [
    {
     "name": "stdout",
     "output_type": "stream",
     "text": [
      "[[-0.8967007   0.2986332  -0.76083715]\n",
      " [ 0.30031083 -0.96295228  0.69633673]]\n",
      "True\n",
      "False\n"
     ]
    }
   ],
   "source": [
    "# 3. 比较函数\n",
    "arr = np.random.randn(2,3)\n",
    "\n",
    "print(arr)\n",
    "\n",
    "print(np.any(arr > 0))\n",
    "print(np.all(arr > 0))"
   ]
  },
  {
   "cell_type": "code",
   "execution_count": 13,
   "id": "26f8ff16cb2eee68",
   "metadata": {
    "ExecuteTime": {
     "end_time": "2024-12-23T04:59:29.996363Z",
     "start_time": "2024-12-23T04:59:29.976828Z"
    }
   },
   "outputs": [
    {
     "name": "stdout",
     "output_type": "stream",
     "text": [
      "[1 2 3 4 5 6 7 8]\n"
     ]
    }
   ],
   "source": [
    "# 4. 去重函数\n",
    "arr = np.array([1, 2, 3, 4, 5, 5, 5, 6, 7, 8])\n",
    "print(np.unique(arr))"
   ]
  },
  {
   "cell_type": "code",
   "execution_count": 14,
   "id": "665c9196d093200c",
   "metadata": {
    "ExecuteTime": {
     "end_time": "2024-12-23T05:00:05.545179Z",
     "start_time": "2024-12-23T05:00:05.522075Z"
    }
   },
   "outputs": [
    {
     "name": "stdout",
     "output_type": "stream",
     "text": [
      "原数组arr: [ 1  2 34  5]\n",
      "numpy.sort()函数排序后的数组: [ 1  2  5 34]\n",
      "数组.sort()方法排序： [ 1  2  5 34]\n"
     ]
    }
   ],
   "source": [
    "# 5. 排序函数\n",
    "arr = np.array([1, 2, 34, 5])\n",
    "print (\"原数组arr:\",arr)\n",
    "\n",
    "#np.sort()函数排序，返回排序后的副本\n",
    "sort_arr1= np.sort(arr)\n",
    "print (\"numpy.sort()函数排序后的数组:\",sort_arr1)\n",
    "\n",
    "# ndarray直接调用sort，在原数据上进行修改\n",
    "arr.sort()\n",
    "print (\"数组.sort()方法排序：\",arr)\n"
   ]
  },
  {
   "cell_type": "code",
   "execution_count": 15,
   "id": "148d629775d39001",
   "metadata": {
    "ExecuteTime": {
     "end_time": "2024-12-23T05:00:44.133369Z",
     "start_time": "2024-12-23T05:00:44.119112Z"
    }
   },
   "outputs": [
    {
     "name": "stdout",
     "output_type": "stream",
     "text": [
      "数组a: [20 30 40 50]\n",
      "数组b: [0 1 2 3]\n",
      "数组运算a-b: [20 29 38 47]\n"
     ]
    }
   ],
   "source": [
    "# 1.基本运算\n",
    "a = np.array([20,30,40,50])\n",
    "b = np.arange(4)\n",
    "c = a-b\n",
    "print(\"数组a:\",a)\n",
    "print(\"数组b:\",b)\n",
    "print(\"数组运算a-b:\",c)"
   ]
  },
  {
   "cell_type": "code",
   "execution_count": 18,
   "id": "9f1118ff305f9958",
   "metadata": {
    "ExecuteTime": {
     "end_time": "2024-12-23T05:01:50.082140Z",
     "start_time": "2024-12-23T05:01:50.068045Z"
    }
   },
   "outputs": [
    {
     "name": "stdout",
     "output_type": "stream",
     "text": [
      "[[ 28  64]\n",
      " [ 67 181]]\n",
      "[[ 2  4  6]\n",
      " [12 15 18]]\n"
     ]
    }
   ],
   "source": [
    "# 2. 矩阵乘法\n",
    "x=np.array([[1,2,3],[4,5,6]])\n",
    "y=np.array([[6,23],[-1,7],[8,9]])\n",
    "\n",
    "#print(x.dot(y))\n",
    "print(np.dot(x,y))\n",
    "\n",
    "a = np.array([[1,2,3], [4,5,6]])\n",
    "b = np.array([[2,2,2],[3,3,3]])\n",
    "print(a*b)"
   ]
  },
  {
   "cell_type": "code",
   "execution_count": 19,
   "id": "c3593775141e2c0d",
   "metadata": {
    "ExecuteTime": {
     "end_time": "2024-12-23T05:03:22.580351Z",
     "start_time": "2024-12-23T05:03:10.476438Z"
    }
   },
   "outputs": [
    {
     "name": "stderr",
     "output_type": "stream",
     "text": [
      "Matplotlib is building the font cache; this may take a moment.\n"
     ]
    },
    {
     "data": {
      "image/png": "[encoded data removed]",
      "text/plain": [
       "<Figure size 640x480 with 1 Axes>"
      ]
     },
     "metadata": {},
     "output_type": "display_data"
    }
   ],
   "source": [
    "import matplotlib.pyplot as plt\n",
    "plt.hist(np.random.normal(loc=0, scale=1, size=100000), bins=500)\n",
    "plt.show()"
   ]
  },
  {
   "cell_type": "code",
   "execution_count": null,
   "id": "3c48fbb6bee45cf2",
   "metadata": {},
   "outputs": [],
   "source": []
  }
 ],
 "metadata": {
  "kernelspec": {
   "display_name": "Python 3",
   "language": "python",
   "name": "python3"
  },
  "language_info": {
   "codemirror_mode": {
    "name": "ipython",
    "version": 2
   },
   "file_extension": ".py",
   "mimetype": "text/x-python",
   "name": "python",
   "nbconvert_exporter": "python",
   "pygments_lexer": "ipython2",
   "version": "2.7.6"
  }
 },
 "nbformat": 4,
 "nbformat_minor": 5
}
